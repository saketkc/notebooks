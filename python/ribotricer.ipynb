{
 "cells": [
  {
   "cell_type": "code",
   "execution_count": 3,
   "metadata": {},
   "outputs": [
    {
     "name": "stdout",
     "output_type": "stream",
     "text": [
      "Populating the interactive namespace from numpy and matplotlib\n"
     ]
    }
   ],
   "source": [
    "%pylab inline\n",
    "from scipy import signal\n",
    "\n",
    "def coherence(original_values):\n",
    "    \"\"\"Calculate coherence with an idea ribo-seq signal,\n",
    "    this function is equivalent to phasescore implemented\n",
    "    above, but we expect scipy has better handling of numerical\n",
    "    precision.\n",
    "    Parameters\n",
    "    ----------\n",
    "    values : array like\n",
    "             List of value\n",
    "    Returns\n",
    "    -------\n",
    "    coh : float\n",
    "          Periodicity score calculated as\n",
    "          coherence between input and idea 1-0-0 signal\n",
    "    valid: int\n",
    "           number of valid codons used for calculation\n",
    "    \"\"\"\n",
    "    coh, valid = 0.0, -1\n",
    "    for frame in [0, 1, 2]:\n",
    "        values = original_values[frame:]\n",
    "        normalized_values = []\n",
    "        i = 0\n",
    "        while i+2 < len(values):\n",
    "            if values[i] == values[i+1] == values[i+2] == 0:\n",
    "                i += 3\n",
    "            else:\n",
    "                real = values[i] + values[i+1] * cos(2*pi/3) + values[i+2] * cos(4*pi/3)\n",
    "                image = values[i+1] * sin(2*pi/3)+values[i+2] * sin(4*pi/3)\n",
    "                norm = sqrt(real**2 + image**2)\n",
    "                if norm == 0:\n",
    "                    norm = 1\n",
    "                normalized_values += [values[i]/norm,\n",
    "                                      values[i+1]/norm,\n",
    "                                      values[i+2]/norm\n",
    "                                      ]\n",
    "                i += 3\n",
    "\n",
    "        length = len(normalized_values)//3*3\n",
    "        if length == 0:\n",
    "            coh, valid = (0.0, 0)\n",
    "        else:\n",
    "            normalized_values = normalized_values[:length]\n",
    "            uniform_signal = [1, 0, 0] * (len(normalized_values)//3)\n",
    "            f, Cxy = signal.coherence(normalized_values,\n",
    "                                      uniform_signal,\n",
    "                                      window=[1.0, 1.0, 1.0],\n",
    "                                      nperseg=3,\n",
    "                                      noverlap=0)\n",
    "            periodicity_score = Cxy[np.argwhere(np.isclose(f, 1/3.0))[0]][0]\n",
    "            if periodicity_score > coh:\n",
    "                coh = periodicity_score\n",
    "                valid = length//3\n",
    "            if valid == -1:\n",
    "                valid = length//3\n",
    "    return np.sqrt(coh), valid"
   ]
  },
  {
   "cell_type": "code",
   "execution_count": 5,
   "metadata": {},
   "outputs": [
    {
     "data": {
      "text/plain": [
       "(1.0, 2)"
      ]
     },
     "execution_count": 5,
     "metadata": {},
     "output_type": "execute_result"
    }
   ],
   "source": [
    "coherence([100, 2, 1, 100, 2, 1])"
   ]
  },
  {
   "cell_type": "code",
   "execution_count": 6,
   "metadata": {},
   "outputs": [
    {
     "data": {
      "text/plain": [
       "(1.0, 1)"
      ]
     },
     "execution_count": 6,
     "metadata": {},
     "output_type": "execute_result"
    }
   ],
   "source": [
    "coherence([3, 2, 1, 3, 2, 1])"
   ]
  },
  {
   "cell_type": "code",
   "execution_count": null,
   "metadata": {},
   "outputs": [],
   "source": []
  }
 ],
 "metadata": {
  "kernelspec": {
   "display_name": "Python 3",
   "language": "python",
   "name": "python3"
  },
  "language_info": {
   "codemirror_mode": {
    "name": "ipython",
    "version": 3
   },
   "file_extension": ".py",
   "mimetype": "text/x-python",
   "name": "python",
   "nbconvert_exporter": "python",
   "pygments_lexer": "ipython3",
   "version": "3.7.1"
  }
 },
 "nbformat": 4,
 "nbformat_minor": 2
}
