{
 "cells": [
  {
   "cell_type": "markdown",
   "metadata": {},
   "source": [
    "[Question](https://stats.stackexchange.com/questions/297776/em-algorithm-for-a-binomial-distribution/297825#297825)\n",
    "\n",
    "[Code](https://github.com/saketkc/notebooks/blob/master/python/Expectation%20Maximisation.ipynb)"
   ]
  },
  {
   "cell_type": "markdown",
   "metadata": {
    "run_control": {
     "frozen": false,
     "read_only": false
    }
   },
   "source": [
    "Let $\\pi_A = \\pi_B = \\frac{1}{2}$ represent the probability of selecting coin A and B respectively.\n",
    "\n",
    "Observed data: $\\{\\mathbf{X_1}, \\mathbf{X_2}, \\mathbf{X_3}, \\mathbf{X_4}, \\mathbf{X_5} \\}$\n",
    "\n",
    "Unobserved: $\\{Z_1, Z_2, Z_3, Z_4, Z_5 \\}$\n",
    "where $Z_i=1$ if $i^{th}$ sequence used coin A.\n",
    "\n",
    "Let $h_i$ represennt number of heads in $i^{th}$ sequence.\n",
    "\n",
    "$$\\begin{align*}\n",
    "P(X_i | h_i) &= P(X_i|Z_i=1,h_i)P(Z_i=1) + P(X_i|Z_i=0,h_i)P(Z_i=0)  \\\\\n",
    "P(X_i | h_i)  &= \\tbinom{10}{h_i} \\theta_A^{h_i}(1-\\theta_A)^{10-h_i} \\pi_A + \\tbinom{10}{h_i} \\theta_B^{h_i}(1-\\theta_B)^{10-h_i} \\pi_B\\\\\n",
    "P(\\mathbf{X} | h_i) &= \\prod_{i=1}^5 P(\\mathbf{X_i}| h_i)\n",
    "\\end{align*}$$\n",
    "\n",
    "\n",
    "\n",
    "$$\\begin{align*}\n",
    "P(X_i,Z_i | h_i) &= \\big( \\tbinom{10}{h_i} \\theta_A^{h_i}(1-\\theta_A)^{10-h_i} \\pi_A  \\big)^{z_i}\\big( \\tbinom{10}{h_i} \\theta_A^{h_i}(1-\\theta_A)^{10-h_i} \\pi_B  \\big)^{1-z_i} \\\\\n",
    "\\ln{P(X_i, Z_i|h_i)} &= z_i \\big(\\ln(\\tbinom{10}{h_i}) + h_i \\ln(\\theta_A) + (10-h_i)\n",
    " \\ln(1-\\theta_A) \\big) +\\\\ & (1-z_i) \\big(\\ln(\\tbinom{10}{h_i}) + h_i \\ln(\\theta_B) + (10-h_i)\n",
    " \\ln(1-\\theta_B) \\big)\\\\\n",
    "\\ln(P(X,Z|h)) &= \\sum_{i=1}^n \\ln(P(X_i, Z_i|h_i)\\\\\n",
    "P(Z_i|X_i) &= \\frac{P(X_i, Z_i | h_i)}{P(X_i|h_i)}\n",
    "\\end{align*}$$\n",
    "\n",
    "\n",
    "\n",
    "## E step\n",
    "(Integration carried w.r.t $P(Z_i|X_i)$)\n",
    "\n",
    "$$\\begin{align*}\n",
    "E_{Z|X}(\\ln(P(X,Z))) &= E_{Z|X}[z_i] \\big(\\ln(\\tbinom{10}{h_i}) + h_i \\ln(\\theta_A) + (10-h_i)\n",
    " \\ln(1-\\theta_A) \\big) +\\\\ & (1-E_{Z|X}[z_i]) \\big(\\ln(\\tbinom{10}{h_i}) + h_i \\ln(\\theta_B) + (10-h_i)\n",
    " \\ln(1-\\theta_B) \\big)\\\\\n",
    "E_{Z|X}[z_i] &= P(z_i=1|x_i)\\\\\n",
    "&= \\frac{\\pi_A \\big( \\tbinom{10}{h_i} \\theta_A^{h_i}(1-\\theta_A)^{10-h_i} \\big) }{\\pi_A \\big( \\tbinom{10}{h_i} \\theta_A^{h_i}(1-\\theta_A)^{10-h_i} \\big)  + \\pi_B \\big( \\tbinom{10}{h_i} \\theta_B^{h_i}(1-\\theta_B)^{10-h_i} \\big) } \\\\\n",
    "&= \\frac{\\big(\\theta_A^{h_i}(1-\\theta_A)^{10-h_i} \\big) }{\\big( \\theta_A^{h_i}(1-\\theta_A)^{10-h_i} \\big)  + \\big( \\theta_B^{h_i}(1-\\theta_B)^{10-h_i} \\big) } \\cdots \\ \\ (1) \\\\\n",
    "\\end{align*}$$\n",
    "\n",
    "## M step\n",
    "\n",
    "\n",
    "$E_{Z|X}(z_i^{(j)})$ is known at step $j$\n",
    "\n",
    "$$\n",
    "\\begin{align*}\n",
    "\\frac{\\partial E_{Z|X}(z_i^{(j)})}{\\partial \\theta_A} &= \\sum_{i=1}^n E_{Z|X}(z_i^{(j)}) \\big( \\frac{x_i}{\\theta_A} + \\frac{1-x_i}{1-\\theta_A} \\big) \\\\\n",
    "\\implies \\theta_A^{(j+1)} &= \\frac{\\sum_{i=1}^n E_{Z|X}(z_i^{(j)}) x_i}{\\sum_{i=1}^n E_{Z|X}(z_i)}\\cdots \\ \\ (2) \\\\\n",
    "\\end{align*} \n",
    "$$\n",
    "\n",
    "\n",
    "## Walk through\n",
    "\n",
    "1st sequence: H T T T H H T H T H\n",
    "\n",
    "$\\pi_A = \\pi_B = \\frac{1}{2}$\n",
    "\n",
    "$\\theta_A^{(0)} = 0.6, \\theta_B^{(0)} = 0.5$\n",
    "\n",
    "$h_i = 5$\n",
    "\n",
    "$P(z_{i=1}^{(1)} =1 ) =  \\frac{\\big( \\theta_A^{5}(1-\\theta_A)^{5} \\big) }{\\big( \\theta_A^{5}(1-\\theta_A)^{5} \\big)  + \\big( \\theta_B^{5}(1-\\theta_B)^{5} \\big) } = 0.4491$\n",
    "\n",
    "$E_{Z|X}(z_i^{(1)})x_i = 0.45 *5 = 2.25 $\n",
    "\n",
    "You can work out the other numbers similarly. Or [simulate it](https://github.com/saketkc/notebooks/blob/master/python/Expectation%20Maximisation.ipynb)"
   ]
  },
  {
   "cell_type": "code",
   "execution_count": null,
   "metadata": {
    "collapsed": true
   },
   "outputs": [],
   "source": []
  }
 ],
 "metadata": {
  "hide_input": false,
  "kernelspec": {
   "display_name": "Python [default]",
   "language": "python",
   "name": "python2"
  },
  "language_info": {
   "codemirror_mode": {
    "name": "ipython",
    "version": 2
   },
   "file_extension": ".py",
   "mimetype": "text/x-python",
   "name": "python",
   "nbconvert_exporter": "python",
   "pygments_lexer": "ipython2",
   "version": "2.7.13"
  },
  "latex_envs": {
   "LaTeX_envs_menu_present": true,
   "autocomplete": true,
   "bibliofile": "biblio.bib",
   "cite_by": "apalike",
   "current_citInitial": 1,
   "eqLabelWithNumbers": true,
   "eqNumInitial": 1,
   "hotkeys": {
    "equation": "Ctrl-E",
    "itemize": "Ctrl-I"
   },
   "labels_anchors": false,
   "latex_user_defs": false,
   "report_style_numbering": false,
   "user_envs_cfg": false
  },
  "toc": {
   "colors": {
    "hover_highlight": "#DAA520",
    "running_highlight": "#FF0000",
    "selected_highlight": "#FFD700"
   },
   "moveMenuLeft": true,
   "nav_menu": {
    "height": "66px",
    "width": "252px"
   },
   "navigate_menu": true,
   "number_sections": true,
   "sideBar": true,
   "threshold": 4,
   "toc_cell": false,
   "toc_position": {
    "height": "421px",
    "left": "0px",
    "right": "1144px",
    "top": "130px",
    "width": "212px"
   },
   "toc_section_display": "block",
   "toc_window_display": true,
   "widenNotebook": false
  }
 },
 "nbformat": 4,
 "nbformat_minor": 2
}
