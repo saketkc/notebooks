{
 "cells": [
  {
   "cell_type": "markdown",
   "metadata": {
    "run_control": {
     "frozen": false,
     "read_only": false
    },
    "toc": "true"
   },
   "source": [
    "# Table of Contents\n",
    " <p><div class=\"lev1 toc-item\"><a href=\"#Python-implementation-of-Finding-a-&quot;Kneedle&quot;-in-a-Haystack:-Detecting-Knee-Points-in-System-Behavior\" data-toc-modified-id=\"Python-implementation-of-Finding-a-&quot;Kneedle&quot;-in-a-Haystack:-Detecting-Knee-Points-in-System-Behavior-1\"><span class=\"toc-item-num\">1&nbsp;&nbsp;</span>Python implementation of <a href=\"https://www1.icsi.berkeley.edu/~barath/papers/kneedle-simplex11.pdf\" target=\"_blank\">Finding a \"Kneedle\" in a Haystack: Detecting Knee Points in System Behavior</a></a></div><div class=\"lev2 toc-item\"><a href=\"#Example-1\" data-toc-modified-id=\"Example-1-11\"><span class=\"toc-item-num\">1.1&nbsp;&nbsp;</span>Example 1</a></div><div class=\"lev2 toc-item\"><a href=\"#Example-2\" data-toc-modified-id=\"Example-2-12\"><span class=\"toc-item-num\">1.2&nbsp;&nbsp;</span>Example 2</a></div>"
   ]
  },
  {
   "cell_type": "markdown",
   "metadata": {
    "run_control": {
     "frozen": false,
     "read_only": false
    }
   },
   "source": [
    "# Python implementation of [Finding a \"Kneedle\" in a Haystack: Detecting Knee Points in System Behavior](https://www1.icsi.berkeley.edu/~barath/papers/kneedle-simplex11.pdf)"
   ]
  },
  {
   "cell_type": "code",
   "execution_count": 1,
   "metadata": {
    "collapsed": true,
    "run_control": {
     "frozen": false,
     "read_only": false
    }
   },
   "outputs": [],
   "source": [
    "%matplotlib inline\n",
    "import numpy as np\n",
    "import scipy as sp\n",
    "import seaborn as sns\n",
    "from scipy.interpolate import UnivariateSpline\n",
    "import matplotlib.pyplot as plt\n",
    "sns.set_style('white')\n",
    "\n",
    "np.random.seed(42)\n",
    "\n",
    "def draw_plot(X, Y, knee_point=None):\n",
    "    plt.plot(X, Y)\n",
    "    if knee_point:\n",
    "        plt.axvline(x=knee_point, color='k', linestyle='--')\n",
    "\n",
    "\n",
    "mu = 50\n",
    "sigma = 10\n",
    "S = 1\n",
    "n = 1000"
   ]
  },
  {
   "cell_type": "markdown",
   "metadata": {
    "run_control": {
     "frozen": false,
     "read_only": false
    }
   },
   "source": [
    "## Example 1\n",
    "\n",
    "$$ X \\sim N(50, 10) $$\n",
    "\n",
    "Knee point(expected)   : $\\mu+\\sigma=60$\n",
    "\n",
    "Knee point(simulation) : 66"
   ]
  },
  {
   "cell_type": "code",
   "execution_count": 2,
   "metadata": {
    "collapsed": true,
    "run_control": {
     "frozen": false,
     "read_only": false
    }
   },
   "outputs": [],
   "source": [
    "X = np.random.normal(mu, sigma, n)\n",
    "\n",
    "sorted_X = np.sort(X)\n",
    "Y = np.arange(len(X))/float(len(sorted_X))\n",
    "    \n"
   ]
  },
  {
   "cell_type": "code",
   "execution_count": 3,
   "metadata": {
    "collapsed": true,
    "run_control": {
     "frozen": false,
     "read_only": false
    }
   },
   "outputs": [],
   "source": [
    "def _locate(Y_d, T_lm, maxima_ids):\n",
    "    n = len(Y_d)\n",
    "    for j in range(0, n):\n",
    "        for index, i in enumerate(maxima_ids):\n",
    "            if j <= i:\n",
    "                continue\n",
    "            if Y_d[j] <= T_lm[index]:\n",
    "                return index\n",
    "\n",
    "\n",
    "def find_knee_point(X, Y, S):\n",
    "    n = len(X)\n",
    "    spl = UnivariateSpline(X, Y)\n",
    "    X_s = np.linspace(np.min(X), np.max(X), n)\n",
    "    Y_s = spl(X_s)\n",
    "    X_sn = (X_s - np.min(X_s)) / (np.max(X_s) - np.min(X_s))\n",
    "    Y_sn = (Y_s - np.min(Y_s)) / (np.max(Y_s) - np.min(Y_s))\n",
    "    X_d = X_sn\n",
    "    Y_d = Y_sn - X_sn\n",
    "    X_lm = []\n",
    "    Y_lm = []\n",
    "    maxima_ids = []\n",
    "    for i in range(1, n - 1):\n",
    "        if (Y_d[i] > Y_d[i - 1] and Y_d[i] > Y_d[i + 1]):\n",
    "            X_lm.append(X_d[i])\n",
    "            Y_lm.append(Y_d[i])\n",
    "            maxima_ids.append(i)\n",
    "    T_lm = Y_lm - S * np.sum(np.diff(X_sn)) / (n - 1)\n",
    "    knee_point_index = _locate(Y_d, T_lm, maxima_ids)\n",
    "    knee_point = X_lm[knee_point_index] * (np.max(X_s) - np.min(X_s)\n",
    "                                           ) + np.min(X_s)\n",
    "    return knee_point, Y_d"
   ]
  },
  {
   "cell_type": "code",
   "execution_count": 4,
   "metadata": {
    "run_control": {
     "frozen": false,
     "read_only": false
    }
   },
   "outputs": [
    {
     "data": {
      "image/png": "[encoded data removed]",
      "text/plain": [
       "<matplotlib.figure.Figure at 0x7f9ad3083588>"
      ]
     },
     "metadata": {},
     "output_type": "display_data"
    }
   ],
   "source": [
    "knee_point, yd = find_knee_point(sorted_X, Y, S)\n",
    "draw_plot(sorted_X, Y, knee_point)\n"
   ]
  },
  {
   "cell_type": "code",
   "execution_count": 5,
   "metadata": {
    "run_control": {
     "frozen": false,
     "read_only": false
    }
   },
   "outputs": [
    {
     "data": {
      "text/plain": [
       "67.366037113196967"
      ]
     },
     "execution_count": 5,
     "metadata": {},
     "output_type": "execute_result"
    }
   ],
   "source": [
    "knee_point"
   ]
  },
  {
   "cell_type": "markdown",
   "metadata": {
    "run_control": {
     "frozen": false,
     "read_only": false
    }
   },
   "source": [
    "## Example 2\n",
    "\n",
    "$$ y = -1/x + 5$$\n",
    "\n",
    "Knee point(expected): $0.22$\n",
    "    \n",
    "Knee point(simulation): $0.4$"
   ]
  },
  {
   "cell_type": "code",
   "execution_count": 6,
   "metadata": {
    "run_control": {
     "frozen": false,
     "read_only": false
    }
   },
   "outputs": [
    {
     "data": {
      "image/png": "[encoded data removed]",
      "text/plain": [
       "<matplotlib.figure.Figure at 0x7f9ad2db10f0>"
      ]
     },
     "metadata": {},
     "output_type": "display_data"
    }
   ],
   "source": [
    "x = np.linspace(0.1,1,10)\n",
    "y = -1/x+5\n",
    "knee_point, _ = find_knee_point(x, y, S)\n",
    "draw_plot(x, y, knee_point)"
   ]
  },
  {
   "cell_type": "code",
   "execution_count": 7,
   "metadata": {
    "run_control": {
     "frozen": false,
     "read_only": false
    }
   },
   "outputs": [
    {
     "data": {
      "text/plain": [
       "0.40000000000000002"
      ]
     },
     "execution_count": 7,
     "metadata": {},
     "output_type": "execute_result"
    }
   ],
   "source": [
    "knee_point"
   ]
  }
 ],
 "metadata": {
  "hide_input": false,
  "kernelspec": {
   "display_name": "Python [conda env:clipseq]",
   "language": "python",
   "name": "conda-env-clipseq-py"
  },
  "language_info": {
   "codemirror_mode": {
    "name": "ipython",
    "version": 3
   },
   "file_extension": ".py",
   "mimetype": "text/x-python",
   "name": "python",
   "nbconvert_exporter": "python",
   "pygments_lexer": "ipython3",
   "version": "3.5.2"
  },
  "latex_envs": {
   "LaTeX_envs_menu_present": true,
   "autocomplete": true,
   "bibliofile": "biblio.bib",
   "cite_by": "apalike",
   "current_citInitial": 1,
   "eqLabelWithNumbers": true,
   "eqNumInitial": 1,
   "hotkeys": {
    "equation": "Ctrl-E",
    "itemize": "Ctrl-I"
   },
   "labels_anchors": false,
   "latex_user_defs": false,
   "report_style_numbering": false,
   "user_envs_cfg": false
  },
  "toc": {
   "colors": {
    "hover_highlight": "#DAA520",
    "running_highlight": "#FF0000",
    "selected_highlight": "#FFD700"
   },
   "moveMenuLeft": true,
   "nav_menu": {
    "height": "80px",
    "width": "252px"
   },
   "navigate_menu": true,
   "number_sections": true,
   "sideBar": true,
   "threshold": 4,
   "toc_cell": true,
   "toc_section_display": "block",
   "toc_window_display": true,
   "widenNotebook": false
  }
 },
 "nbformat": 4,
 "nbformat_minor": 2
}
