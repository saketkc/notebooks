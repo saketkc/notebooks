{
 "cells": [
  {
   "cell_type": "markdown",
   "metadata": {},
   "source": [
    "# log determinant of sparse matrices\n",
    "\n",
    "## Cholesky factorization\n",
    "\n",
    "Given matrix $M$ is hermitian (symmetric if real) positive definite matrix, cholesky factorization breaks allows $M$ to be written as $M = LL^T$ where $L$ is a lower triangular matrix with real positive diagonals.\n",
    "\n",
    "$$\\begin{align*}\n",
    "M &= LL^T\\\\\n",
    "\\det(M) &= \\det(L)^2 \\\\\n",
    "\\log (\\det(M)) &= 2 \\log(\\det(L)) \\\\\n",
    "&= 2 \\log \\sum_{i}L_{ii}\n",
    "\\end{align*}$$\n"
   ]
  },
  {
   "cell_type": "code",
   "execution_count": 1,
   "metadata": {
    "collapsed": true
   },
   "outputs": [],
   "source": [
    "from scikits.sparse.cholmod import cholesky\n",
    "from scipy.sparse import issparse\n",
    "from scipy.sparse import rand\n",
    "M = rand(2000, 2000, density=0.2, format='csr')"
   ]
  },
  {
   "cell_type": "code",
   "execution_count": 2,
   "metadata": {},
   "outputs": [],
   "source": [
    "## Symmetric positive definite\n",
    "M = M.dot(M.T)"
   ]
  },
  {
   "cell_type": "code",
   "execution_count": 3,
   "metadata": {},
   "outputs": [
    {
     "name": "stderr",
     "output_type": "stream",
     "text": [
      "/home/saket/anaconda2/envs/csci599/lib/python3.5/site-packages/ipykernel/__main__.py:1: CholmodTypeConversionWarning: converting matrix of class csr_matrix to CSC format\n",
      "  if __name__ == '__main__':\n"
     ]
    }
   ],
   "source": [
    "factor = cholesky(M)\n",
    "ld = factor.logdet()"
   ]
  },
  {
   "cell_type": "code",
   "execution_count": 4,
   "metadata": {},
   "outputs": [
    {
     "data": {
      "text/plain": [
       "7467.4303585988573"
      ]
     },
     "execution_count": 4,
     "metadata": {},
     "output_type": "execute_result"
    }
   ],
   "source": [
    "ld"
   ]
  }
 ],
 "metadata": {
  "hide_input": false,
  "kernelspec": {
   "display_name": "Python [conda env:csci599]",
   "language": "python",
   "name": "conda-env-csci599-py"
  },
  "language_info": {
   "codemirror_mode": {
    "name": "ipython",
    "version": 3
   },
   "file_extension": ".py",
   "mimetype": "text/x-python",
   "name": "python",
   "nbconvert_exporter": "python",
   "pygments_lexer": "ipython3",
   "version": "3.5.4"
  },
  "latex_envs": {
   "LaTeX_envs_menu_present": true,
   "autocomplete": true,
   "bibliofile": "biblio.bib",
   "cite_by": "apalike",
   "current_citInitial": 1,
   "eqLabelWithNumbers": true,
   "eqNumInitial": 1,
   "hotkeys": {
    "equation": "Ctrl-E",
    "itemize": "Ctrl-I"
   },
   "labels_anchors": false,
   "latex_user_defs": false,
   "report_style_numbering": false,
   "user_envs_cfg": false
  },
  "toc": {
   "colors": {
    "hover_highlight": "#DAA520",
    "running_highlight": "#FF0000",
    "selected_highlight": "#FFD700"
   },
   "moveMenuLeft": true,
   "nav_menu": {
    "height": "48px",
    "width": "252px"
   },
   "navigate_menu": true,
   "number_sections": false,
   "sideBar": true,
   "threshold": 4,
   "toc_cell": false,
   "toc_section_display": "block",
   "toc_window_display": true,
   "widenNotebook": false
  }
 },
 "nbformat": 4,
 "nbformat_minor": 2
}
