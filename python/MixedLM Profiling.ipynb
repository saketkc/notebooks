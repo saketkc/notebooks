{
 "cells": [
  {
   "cell_type": "code",
   "execution_count": 19,
   "metadata": {
    "collapsed": true
   },
   "outputs": [],
   "source": [
    "import numpy as np\n",
    "import statsmodels.api as sm\n",
    "import statsmodels.formula.api as smf\n",
    "import pandas"
   ]
  },
  {
   "cell_type": "code",
   "execution_count": 20,
   "metadata": {
    "collapsed": false
   },
   "outputs": [
    {
     "name": "stdout",
     "output_type": "stream",
     "text": [
      "The rpy2.ipython extension is already loaded. To reload it, use:\n",
      "  %reload_ext rpy2.ipython\n"
     ]
    },
    {
     "data": {
      "text/plain": [
       "<StrVector - Python:0x7f00abf18680 / R:0xc4afcb8>\n",
       "[str, str, str, ..., str, str, str]"
      ]
     },
     "execution_count": 20,
     "metadata": {},
     "output_type": "execute_result"
    }
   ],
   "source": [
    "%load_ext rpy2.ipython\n",
    "%R library(lme4)\n",
    "%R library(RCurl)"
   ]
  },
  {
   "cell_type": "code",
   "execution_count": 21,
   "metadata": {
    "collapsed": false
   },
   "outputs": [],
   "source": [
    "%%R\n",
    "mm0 <- getURL('https://raw.githubusercontent.com/lme4/lme4-convergence/master/mm0.csv')\n",
    "mm0data <- read.csv(textConnection(mm0))\n",
    "modeldata <- read.table(textConnection(getURL('https://raw.githubusercontent.com/lme4/lme4-convergence/master/data.tab')), header=T)"
   ]
  },
  {
   "cell_type": "code",
   "execution_count": 22,
   "metadata": {
    "collapsed": false
   },
   "outputs": [
    {
     "data": {
      "text/plain": [
       "      mean              subj            item                    roi        \n",
       " Min.   :-77.086   Min.   : 1.00   Min.   : 1.00   Left-Anterior  :139176  \n",
       " 1st Qu.: -1.973   1st Qu.:12.00   1st Qu.:16.00   Left-Posterior :139176  \n",
       " Median :  1.052   Median :21.00   Median :30.00   Midline        :173970  \n",
       " Mean   :  1.101   Mean   :20.55   Mean   :30.51   Right-Anterior :139176  \n",
       " 3rd Qu.:  4.129   3rd Qu.:30.00   3rd Qu.:46.00   Right-Posterior:139176  \n",
       " Max.   : 76.454   Max.   :39.00   Max.   :60.00                           \n",
       "   win             sdiff               dist          signdist       \n",
       " N400:365337   Min.   :-2100.00   Min.   :2.000   Min.   :-3.00000  \n",
       " P600:365337   1st Qu.:-1990.00   1st Qu.:4.000   1st Qu.:-1.00000  \n",
       "               Median : -990.00   Median :4.000   Median : 0.00000  \n",
       "               Mean   :  -46.56   Mean   :4.013   Mean   : 0.01144  \n",
       "               3rd Qu.: 1900.00   3rd Qu.:5.000   3rd Qu.: 2.00000  \n",
       "               Max.   : 2010.00   Max.   :6.000   Max.   : 3.00000  \n",
       "   ambiguity     \n",
       " ambig  :364938  \n",
       " unambig:365736  \n",
       "                 \n",
       "                 \n",
       "                 \n",
       "                 \n"
      ]
     },
     "metadata": {},
     "output_type": "display_data"
    }
   ],
   "source": [
    "%R print(summary(modeldata))"
   ]
  },
  {
   "cell_type": "code",
   "execution_count": 23,
   "metadata": {
    "collapsed": false
   },
   "outputs": [],
   "source": [
    "%%R \n",
    "modeldata <- subset(modeldata, roi == 'Left-Posterior')\n",
    "modeldata.n400 <- subset(modeldata,win==\"N400\")"
   ]
  },
  {
   "cell_type": "code",
   "execution_count": 24,
   "metadata": {
    "collapsed": false
   },
   "outputs": [
    {
     "data": {
      "text/plain": [
       "Linear mixed model fit by REML ['lmerMod']\n",
       "Formula: mean ~ ambiguity * sdiff + (1 + sdiff | item) + (1 + sdiff |      subj) \n",
       "   Data: modeldata.n400 \n",
       "\n",
       "REML criterion at convergence: 395557.6 \n",
       "\n",
       "Random effects:\n",
       " Groups   Name        Variance  Std.Dev.  Corr \n",
       " item     (Intercept) 1.978e+01 4.4477760      \n",
       "          sdiff       1.072e-07 0.0003274 -0.49\n",
       " subj     (Intercept) 5.813e+01 7.6241258      \n",
       "          sdiff       1.676e-07 0.0004094 -0.92\n",
       " Residual             1.697e+01 4.1199682      \n",
       "Number of obs: 69588, groups: item, 60; subj, 37\n",
       "\n",
       "Fixed effects:\n",
       "                         Estimate Std. Error t value\n",
       "(Intercept)             1.141e+00  1.379e+00   0.827\n",
       "ambiguityunambig        5.148e-01  3.126e-02  16.469\n",
       "sdiff                  -3.876e-04  8.249e-05  -4.699\n",
       "ambiguityunambig:sdiff  3.816e-04  2.468e-05  15.463\n",
       "\n",
       "Correlation of Fixed Effects:\n",
       "            (Intr) ambgty sdiff \n",
       "ambigtynmbg -0.011              \n",
       "sdiff       -0.788 -0.009       \n",
       "ambgtynmbg: -0.001  0.038 -0.239\n"
      ]
     },
     "metadata": {},
     "output_type": "display_data"
    },
    {
     "data": {
      "text/plain": [
       "Linear mixed model fit by REML ['lmerMod']\n",
       "Formula: mean ~ ambiguity * sdiff + (1 + sdiff | item) + (1 + sdiff |      subj) \n",
       "   Data: modeldata.n400 \n",
       "\n",
       "REML criterion at convergence: 395557.6 \n",
       "\n",
       "Random effects:\n",
       " Groups   Name        Variance  Std.Dev.  Corr \n",
       " item     (Intercept) 1.978e+01 4.4477760      \n",
       "          sdiff       1.072e-07 0.0003274 -0.49\n",
       " subj     (Intercept) 5.813e+01 7.6241258      \n",
       "          sdiff       1.676e-07 0.0004094 -0.92\n",
       " Residual             1.697e+01 4.1199682      \n",
       "Number of obs: 69588, groups: item, 60; subj, 37\n",
       "\n",
       "Fixed effects:\n",
       "                         Estimate Std. Error t value\n",
       "(Intercept)             1.141e+00  1.379e+00   0.827\n",
       "ambiguityunambig        5.148e-01  3.126e-02  16.469\n",
       "sdiff                  -3.876e-04  8.249e-05  -4.699\n",
       "ambiguityunambig:sdiff  3.816e-04  2.468e-05  15.463\n",
       "\n",
       "Correlation of Fixed Effects:\n",
       "            (Intr) ambgty sdiff \n",
       "ambigtynmbg -0.011              \n",
       "sdiff       -0.788 -0.009       \n",
       "ambgtynmbg: -0.001  0.038 -0.239\n"
      ]
     },
     "metadata": {},
     "output_type": "display_data"
    },
    {
     "data": {
      "text/plain": [
       "Linear mixed model fit by REML ['lmerMod']\n",
       "Formula: mean ~ ambiguity * sdiff + (1 + sdiff | item) + (1 + sdiff |      subj) \n",
       "   Data: modeldata.n400 \n",
       "\n",
       "REML criterion at convergence: 395557.6 \n",
       "\n",
       "Random effects:\n",
       " Groups   Name        Variance  Std.Dev.  Corr \n",
       " item     (Intercept) 1.978e+01 4.4477760      \n",
       "          sdiff       1.072e-07 0.0003274 -0.49\n",
       " subj     (Intercept) 5.813e+01 7.6241258      \n",
       "          sdiff       1.676e-07 0.0004094 -0.92\n",
       " Residual             1.697e+01 4.1199682      \n",
       "Number of obs: 69588, groups: item, 60; subj, 37\n",
       "\n",
       "Fixed effects:\n",
       "                         Estimate Std. Error t value\n",
       "(Intercept)             1.141e+00  1.379e+00   0.827\n",
       "ambiguityunambig        5.148e-01  3.126e-02  16.469\n",
       "sdiff                  -3.876e-04  8.249e-05  -4.699\n",
       "ambiguityunambig:sdiff  3.816e-04  2.468e-05  15.463\n",
       "\n",
       "Correlation of Fixed Effects:\n",
       "            (Intr) ambgty sdiff \n",
       "ambigtynmbg -0.011              \n",
       "sdiff       -0.788 -0.009       \n",
       "ambgtynmbg: -0.001  0.038 -0.239\n"
      ]
     },
     "metadata": {},
     "output_type": "display_data"
    },
    {
     "data": {
      "text/plain": [
       "Linear mixed model fit by REML ['lmerMod']\n",
       "Formula: mean ~ ambiguity * sdiff + (1 + sdiff | item) + (1 + sdiff |      subj) \n",
       "   Data: modeldata.n400 \n",
       "\n",
       "REML criterion at convergence: 395557.6 \n",
       "\n",
       "Random effects:\n",
       " Groups   Name        Variance  Std.Dev.  Corr \n",
       " item     (Intercept) 1.978e+01 4.4477760      \n",
       "          sdiff       1.072e-07 0.0003274 -0.49\n",
       " subj     (Intercept) 5.813e+01 7.6241258      \n",
       "          sdiff       1.676e-07 0.0004094 -0.92\n",
       " Residual             1.697e+01 4.1199682      \n",
       "Number of obs: 69588, groups: item, 60; subj, 37\n",
       "\n",
       "Fixed effects:\n",
       "                         Estimate Std. Error t value\n",
       "(Intercept)             1.141e+00  1.379e+00   0.827\n",
       "ambiguityunambig        5.148e-01  3.126e-02  16.469\n",
       "sdiff                  -3.876e-04  8.249e-05  -4.699\n",
       "ambiguityunambig:sdiff  3.816e-04  2.468e-05  15.463\n",
       "\n",
       "Correlation of Fixed Effects:\n",
       "            (Intr) ambgty sdiff \n",
       "ambigtynmbg -0.011              \n",
       "sdiff       -0.788 -0.009       \n",
       "ambgtynmbg: -0.001  0.038 -0.239\n"
      ]
     },
     "metadata": {},
     "output_type": "display_data"
    },
    {
     "name": "stdout",
     "output_type": "stream",
     "text": [
      "1 loops, best of 3: 31.1 s per loop\n"
     ]
    }
   ],
   "source": [
    "%%timeit\n",
    "%%R\n",
    "fit <- lmer(mean ~ ambiguity * sdiff + (1+sdiff|item) + (1+sdiff|subj), data=modeldata.n400, REML=T, method='bfgs')\n",
    "print(summary(fit))"
   ]
  },
  {
   "cell_type": "code",
   "execution_count": 26,
   "metadata": {
    "collapsed": false
   },
   "outputs": [],
   "source": [
    "modeldata = pandas.read_csv('https://raw.githubusercontent.com/lme4/lme4-convergence/master/data.tab', delimiter='\\t')\n",
    "modeldata = modeldata[modeldata['win']=='N400']\n"
   ]
  },
  {
   "cell_type": "code",
   "execution_count": 29,
   "metadata": {
    "collapsed": false
   },
   "outputs": [
    {
     "name": "stdout",
     "output_type": "stream",
     "text": [
      "1 loops, best of 3: 15.5 s per loop\n"
     ]
    }
   ],
   "source": [
    "vcf = {\"item\" : \"1 + C(sdiff):item\", \"subj\" : \"1 + C(sdiff):subj\"}\n",
    "%timeit model = sm.MixedLM.from_formula('mean ~ ambiguity * sdiff', groups=\"item\", vc_formula=vcf,  data=modeldata)"
   ]
  },
  {
   "cell_type": "code",
   "execution_count": 35,
   "metadata": {
    "collapsed": false
   },
   "outputs": [
    {
     "name": "stderr",
     "output_type": "stream",
     "text": [
      "/usr/local/lib/python2.7/dist-packages/statsmodels-0.7.0-py2.7-linux-x86_64.egg/statsmodels/regression/mixed_linear_model.py:1906: ConvergenceWarning: The MLE may be on the boundary of the parameter space.\n",
      "  warnings.warn(msg, ConvergenceWarning)\n",
      "/usr/local/lib/python2.7/dist-packages/statsmodels-0.7.0-py2.7-linux-x86_64.egg/statsmodels/regression/mixed_linear_model.py:1906: ConvergenceWarning: The MLE may be on the boundary of the parameter space.\n",
      "  warnings.warn(msg, ConvergenceWarning)\n"
     ]
    },
    {
     "name": "stdout",
     "output_type": "stream",
     "text": [
      "                Mixed Linear Model Regression Results\n",
      "=====================================================================\n",
      "Model:                MixedLM    Dependent Variable:    mean         \n",
      "No. Observations:     365337     Method:                REML         \n",
      "No. Groups:           60         Scale:                 21.3193      \n",
      "Min. group size:      5964       Likelihood:            -1080886.6241\n",
      "Max. group size:      6174       Converged:             Yes          \n",
      "Mean group size:      6088.9                                         \n",
      "---------------------------------------------------------------------\n",
      "                           Coef.  Std.Err.   z    P>|z| [0.025 0.975]\n",
      "---------------------------------------------------------------------\n",
      "Intercept                   1.988    0.078 25.599 0.000  1.836  2.141\n",
      "ambiguity[T.unambig]       -0.336    0.099 -3.401 0.001 -0.530 -0.143\n",
      "sdiff                      -0.000    0.000 -3.085 0.002 -0.000 -0.000\n",
      "ambiguity[T.unambig]:sdiff  0.000    0.000  1.824 0.068 -0.000  0.000\n",
      "item RE                     0.011    0.000                           \n",
      "subj RE                     0.006    0.000                           \n",
      "=====================================================================\n",
      "\n",
      "                Mixed Linear Model Regression Results\n",
      "=====================================================================\n",
      "Model:                MixedLM    Dependent Variable:    mean         \n",
      "No. Observations:     365337     Method:                REML         \n",
      "No. Groups:           60         Scale:                 21.3193      \n",
      "Min. group size:      5964       Likelihood:            -1080886.6241\n",
      "Max. group size:      6174       Converged:             Yes          \n",
      "Mean group size:      6088.9                                         \n",
      "---------------------------------------------------------------------\n",
      "                           Coef.  Std.Err.   z    P>|z| [0.025 0.975]\n",
      "---------------------------------------------------------------------\n",
      "Intercept                   1.988    0.078 25.599 0.000  1.836  2.141\n",
      "ambiguity[T.unambig]       -0.336    0.099 -3.401 0.001 -0.530 -0.143\n",
      "sdiff                      -0.000    0.000 -3.085 0.002 -0.000 -0.000\n",
      "ambiguity[T.unambig]:sdiff  0.000    0.000  1.824 0.068 -0.000  0.000\n",
      "item RE                     0.011    0.000                           \n",
      "subj RE                     0.006    0.000                           \n",
      "=====================================================================\n",
      "\n",
      "                Mixed Linear Model Regression Results\n",
      "=====================================================================\n",
      "Model:                MixedLM    Dependent Variable:    mean         \n",
      "No. Observations:     365337     Method:                REML         \n",
      "No. Groups:           60         Scale:                 21.3193      \n",
      "Min. group size:      5964       Likelihood:            -1080886.6241\n",
      "Max. group size:      6174       Converged:             Yes          \n",
      "Mean group size:      6088.9                                         \n",
      "---------------------------------------------------------------------\n",
      "                           Coef.  Std.Err.   z    P>|z| [0.025 0.975]\n",
      "---------------------------------------------------------------------\n",
      "Intercept                   1.988    0.078 25.599 0.000  1.836  2.141\n",
      "ambiguity[T.unambig]       -0.336    0.099 -3.401 0.001 -0.530 -0.143\n",
      "sdiff                      -0.000    0.000 -3.085 0.002 -0.000 -0.000\n",
      "ambiguity[T.unambig]:sdiff  0.000    0.000  1.824 0.068 -0.000  0.000\n",
      "item RE                     0.011    0.000                           \n",
      "subj RE                     0.006    0.000                           \n",
      "=====================================================================\n"
     ]
    },
    {
     "name": "stderr",
     "output_type": "stream",
     "text": [
      "/usr/local/lib/python2.7/dist-packages/statsmodels-0.7.0-py2.7-linux-x86_64.egg/statsmodels/regression/mixed_linear_model.py:1906: ConvergenceWarning: The MLE may be on the boundary of the parameter space.\n",
      "  warnings.warn(msg, ConvergenceWarning)\n",
      "/usr/local/lib/python2.7/dist-packages/statsmodels-0.7.0-py2.7-linux-x86_64.egg/statsmodels/regression/mixed_linear_model.py:1906: ConvergenceWarning: The MLE may be on the boundary of the parameter space.\n",
      "  warnings.warn(msg, ConvergenceWarning)\n"
     ]
    },
    {
     "name": "stdout",
     "output_type": "stream",
     "text": [
      "\n",
      "                Mixed Linear Model Regression Results\n",
      "=====================================================================\n",
      "Model:                MixedLM    Dependent Variable:    mean         \n",
      "No. Observations:     365337     Method:                REML         \n",
      "No. Groups:           60         Scale:                 21.3193      \n",
      "Min. group size:      5964       Likelihood:            -1080886.6241\n",
      "Max. group size:      6174       Converged:             Yes          \n",
      "Mean group size:      6088.9                                         \n",
      "---------------------------------------------------------------------\n",
      "                           Coef.  Std.Err.   z    P>|z| [0.025 0.975]\n",
      "---------------------------------------------------------------------\n",
      "Intercept                   1.988    0.078 25.599 0.000  1.836  2.141\n",
      "ambiguity[T.unambig]       -0.336    0.099 -3.401 0.001 -0.530 -0.143\n",
      "sdiff                      -0.000    0.000 -3.085 0.002 -0.000 -0.000\n",
      "ambiguity[T.unambig]:sdiff  0.000    0.000  1.824 0.068 -0.000  0.000\n",
      "item RE                     0.011    0.000                           \n",
      "subj RE                     0.006    0.000                           \n",
      "=====================================================================\n",
      "\n",
      "1 loops, best of 3: 11min 8s per loop\n"
     ]
    }
   ],
   "source": [
    "%%timeit\n",
    "#model = sm.MixedLM.from_formula('mean ~ ambiguity * sdiff', groups=\"item\", vc_formula=vcf,  data=modeldata)\n",
    "result = model.fit()\n",
    "print (result.summary())\n",
    "result.result\n"
   ]
  },
  {
   "cell_type": "code",
   "execution_count": 38,
   "metadata": {
    "collapsed": false
   },
   "outputs": [
    {
     "name": "stdout",
     "output_type": "stream",
     "text": [
      "                Mixed Linear Model Regression Results\n",
      "=====================================================================\n",
      "Model:                MixedLM    Dependent Variable:    mean         \n",
      "No. Observations:     365337     Method:                REML         \n",
      "No. Groups:           60         Scale:                 21.3193      \n",
      "Min. group size:      5964       Likelihood:            -1080886.6241\n",
      "Max. group size:      6174       Converged:             Yes          \n",
      "Mean group size:      6088.9                                         \n",
      "---------------------------------------------------------------------\n",
      "                           Coef.  Std.Err.   z    P>|z| [0.025 0.975]\n",
      "---------------------------------------------------------------------\n",
      "Intercept                   1.988    0.078 25.599 0.000  1.836  2.141\n",
      "ambiguity[T.unambig]       -0.336    0.099 -3.401 0.001 -0.530 -0.143\n",
      "sdiff                      -0.000    0.000 -3.085 0.002 -0.000 -0.000\n",
      "ambiguity[T.unambig]:sdiff  0.000    0.000  1.824 0.068 -0.000  0.000\n",
      "item RE                     0.011    0.000                           \n",
      "subj RE                     0.006    0.000                           \n",
      "=====================================================================\n",
      "\n"
     ]
    },
    {
     "name": "stderr",
     "output_type": "stream",
     "text": [
      "/usr/local/lib/python2.7/dist-packages/statsmodels-0.7.0-py2.7-linux-x86_64.egg/statsmodels/regression/mixed_linear_model.py:1906: ConvergenceWarning: The MLE may be on the boundary of the parameter space.\n",
      "  warnings.warn(msg, ConvergenceWarning)\n"
     ]
    }
   ],
   "source": [
    "result = model.fit()\n",
    "print (result.summary())\n"
   ]
  },
  {
   "cell_type": "code",
   "execution_count": 40,
   "metadata": {
    "collapsed": false
   },
   "outputs": [
    {
     "data": {
      "text/html": [
       "<table class=\"simpletable\">\n",
       "<tr>\n",
       "       <td>Model:</td>       <td>MixedLM</td> <td>Dependent Variable:</td>     <td>mean</td>     \n",
       "</tr>\n",
       "<tr>\n",
       "  <td>No. Observations:</td> <td>365337</td>        <td>Method:</td>           <td>REML</td>     \n",
       "</tr>\n",
       "<tr>\n",
       "     <td>No. Groups:</td>      <td>60</td>          <td>Scale:</td>           <td>21.3193</td>   \n",
       "</tr>\n",
       "<tr>\n",
       "  <td>Min. group size:</td>   <td>5964</td>       <td>Likelihood:</td>     <td>-1080886.6241</td>\n",
       "</tr>\n",
       "<tr>\n",
       "  <td>Max. group size:</td>   <td>6174</td>       <td>Converged:</td>           <td>Yes</td>     \n",
       "</tr>\n",
       "<tr>\n",
       "  <td>Mean group size:</td>  <td>6088.9</td>           <td></td>                 <td></td>       \n",
       "</tr>\n",
       "</table>\n",
       "<table class=\"simpletable\">\n",
       "<tr>\n",
       "               <td></td>               <th>Coef.</th> <th>Std.Err.</th>    <th>z</th>   <th>P>|z|</th> <th>[0.025</th> <th>0.975]</th>\n",
       "</tr>\n",
       "<tr>\n",
       "  <th>Intercept</th>                   <td>1.988</td>   <td>0.078</td>  <td>25.599</td> <td>0.000</td>  <td>1.836</td>  <td>2.141</td>\n",
       "</tr>\n",
       "<tr>\n",
       "  <th>ambiguity[T.unambig]</th>       <td>-0.336</td>   <td>0.099</td>  <td>-3.401</td> <td>0.001</td> <td>-0.530</td> <td>-0.143</td>\n",
       "</tr>\n",
       "<tr>\n",
       "  <th>sdiff</th>                      <td>-0.000</td>   <td>0.000</td>  <td>-3.085</td> <td>0.002</td> <td>-0.000</td> <td>-0.000</td>\n",
       "</tr>\n",
       "<tr>\n",
       "  <th>ambiguity[T.unambig]:sdiff</th>  <td>0.000</td>   <td>0.000</td>   <td>1.824</td> <td>0.068</td> <td>-0.000</td>  <td>0.000</td>\n",
       "</tr>\n",
       "<tr>\n",
       "  <th>item RE</th>                     <td>0.011</td>   <td>0.000</td>     <td></td>      <td></td>       <td></td>       <td></td>   \n",
       "</tr>\n",
       "<tr>\n",
       "  <th>subj RE</th>                     <td>0.006</td>   <td>0.000</td>     <td></td>      <td></td>       <td></td>       <td></td>   \n",
       "</tr>\n",
       "</table>"
      ],
      "text/plain": [
       "<class 'statsmodels.iolib.summary2.Summary'>\n",
       "\"\"\"\n",
       "                Mixed Linear Model Regression Results\n",
       "=====================================================================\n",
       "Model:                MixedLM    Dependent Variable:    mean         \n",
       "No. Observations:     365337     Method:                REML         \n",
       "No. Groups:           60         Scale:                 21.3193      \n",
       "Min. group size:      5964       Likelihood:            -1080886.6241\n",
       "Max. group size:      6174       Converged:             Yes          \n",
       "Mean group size:      6088.9                                         \n",
       "---------------------------------------------------------------------\n",
       "                           Coef.  Std.Err.   z    P>|z| [0.025 0.975]\n",
       "---------------------------------------------------------------------\n",
       "Intercept                   1.988    0.078 25.599 0.000  1.836  2.141\n",
       "ambiguity[T.unambig]       -0.336    0.099 -3.401 0.001 -0.530 -0.143\n",
       "sdiff                      -0.000    0.000 -3.085 0.002 -0.000 -0.000\n",
       "ambiguity[T.unambig]:sdiff  0.000    0.000  1.824 0.068 -0.000  0.000\n",
       "item RE                     0.011    0.000                           \n",
       "subj RE                     0.006    0.000                           \n",
       "=====================================================================\n",
       "\n",
       "\"\"\""
      ]
     },
     "execution_count": 40,
     "metadata": {},
     "output_type": "execute_result"
    }
   ],
   "source": [
    "result.summary()"
   ]
  },
  {
   "cell_type": "code",
   "execution_count": 44,
   "metadata": {
    "collapsed": false
   },
   "outputs": [
    {
     "ename": "TypeError",
     "evalue": "'NoneType' object is not callable",
     "output_type": "error",
     "traceback": [
      "\u001b[1;31m---------------------------------------------------------------------------\u001b[0m",
      "\u001b[1;31mTypeError\u001b[0m                                 Traceback (most recent call last)",
      "\u001b[1;32m<ipython-input-44-b271180b88c7>\u001b[0m in \u001b[0;36m<module>\u001b[1;34m()\u001b[0m\n\u001b[1;32m----> 1\u001b[1;33m \u001b[0mmodel\u001b[0m\u001b[1;33m.\u001b[0m\u001b[0mfe_pen\u001b[0m\u001b[1;33m(\u001b[0m\u001b[1;33m)\u001b[0m\u001b[1;33m\u001b[0m\u001b[0m\n\u001b[0m",
      "\u001b[1;31mTypeError\u001b[0m: 'NoneType' object is not callable"
     ]
    }
   ],
   "source": [
    "model.get_fe_params()"
   ]
  },
  {
   "cell_type": "code",
   "execution_count": null,
   "metadata": {
    "collapsed": true
   },
   "outputs": [],
   "source": []
  }
 ],
 "metadata": {
  "kernelspec": {
   "display_name": "Python 2",
   "language": "python",
   "name": "python2"
  },
  "language_info": {
   "codemirror_mode": {
    "name": "ipython",
    "version": 2
   },
   "file_extension": ".py",
   "mimetype": "text/x-python",
   "name": "python",
   "nbconvert_exporter": "python",
   "pygments_lexer": "ipython2",
   "version": "2.7.6"
  }
 },
 "nbformat": 4,
 "nbformat_minor": 0
}
