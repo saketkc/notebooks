{
 "cells": [
  {
   "cell_type": "markdown",
   "metadata": {},
   "source": [
    "CDF:\n",
    "$$\n",
    "F(x) = \\begin{cases}\n",
    "0 & x <0,\\\\\n",
    "x & 0 \\leq x < 0.5,\\\\\n",
    "\\frac{x}{2} + 0.5 & 0.5 \\leq x \\leq 1\\\\\n",
    "1 & x>2\n",
    "\\end{cases}\n",
    "$$\n",
    "\n",
    "P*D*F:\n",
    "\n",
    "$$\n",
    "f(x) = \\begin{cases}\n",
    "0 & x <0,\\\\\n",
    "1 & 0 \\leq x < 0.5,\\\\\n",
    "\\frac{1}{2}  & 0.5 \\leq x \\leq 1\\\\\n",
    "0 & x>2\n",
    "\\end{cases}\n",
    "$$\n",
    "\n",
    "$\\int f(t) dt = 0.75$??\n",
    "\n",
    "What's missing?\n",
    "\n",
    "p[X=0.5] = 0.25. But defining such a probability should be $0$ for a P*D*F.[It's technically a 'PMF'. The mass at 0.5 being 1/4]"
   ]
  },
  {
   "cell_type": "code",
   "execution_count": 15,
   "metadata": {
    "collapsed": false
   },
   "outputs": [
    {
     "name": "stderr",
     "output_type": "stream",
     "text": [
      "/home/saket/anaconda/lib/python2.7/site-packages/ipykernel/__main__.py:19: DeprecationWarning: converting an array with ndim > 0 to an index will result in an error in the future\n"
     ]
    },
    {
     "data": {
      "text/plain": [
       "[<matplotlib.lines.Line2D at 0x7f95e581c410>]"
      ]
     },
     "execution_count": 15,
     "metadata": {},
     "output_type": "execute_result"
    },
    {
     "data": {
      "image/png": "[encoded data removed]",
      "text/plain": [
       "<matplotlib.figure.Figure at 0x7f95e5ab1050>"
      ]
     },
     "metadata": {},
     "output_type": "display_data"
    }
   ],
   "source": [
    "%matplotlib inline\n",
    "from __future__ import division\n",
    "def F(x):\n",
    "    if x<0:\n",
    "        return 0\n",
    "    if x<0.5:\n",
    "        return x\n",
    "    if x>=0.5 and x<=1:\n",
    "        return x/2+0.5\n",
    "    return 1\n",
    "    \n",
    "import numpy as np\n",
    "import matplotlib.pyplot as plt\n",
    "x = np.linspace(-2,2, num=100)\n",
    "fx =[F(i) for i in x]\n",
    "pos = np.where((x<=0.51) & (x>=0.49))[0]\n",
    "\n",
    "x[pos] = np.nan\n",
    "fx[pos] = np.nan\n",
    "plt.plot(x,fx)\n",
    "\n"
   ]
  }
 ],
 "metadata": {
  "kernelspec": {
   "display_name": "Python 2",
   "language": "python",
   "name": "python2"
  },
  "language_info": {
   "codemirror_mode": {
    "name": "ipython",
    "version": 2
   },
   "file_extension": ".py",
   "mimetype": "text/x-python",
   "name": "python",
   "nbconvert_exporter": "python",
   "pygments_lexer": "ipython2",
   "version": "2.7.10"
  }
 },
 "nbformat": 4,
 "nbformat_minor": 0
}
