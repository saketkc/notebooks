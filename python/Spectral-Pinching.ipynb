{
 "cells": [
  {
   "cell_type": "code",
   "execution_count": 1,
   "metadata": {},
   "outputs": [
    {
     "name": "stdout",
     "output_type": "stream",
     "text": [
      "Populating the interactive namespace from numpy and matplotlib\n"
     ]
    }
   ],
   "source": [
    "%pylab inline\n",
    "from numpy import linalg as LA"
   ]
  },
  {
   "cell_type": "code",
   "execution_count": null,
   "metadata": {},
   "outputs": [],
   "source": [
    "matA= np.array([[-0.0001, 0., 0., 0.00001, 0., 0., 0.00002, 0.],\n",
    "                [0., -0.0002, 0., 0., 0., 0., 0., 0.],\n",
    "                [0., 0., -0.00015, 0., 0., -9.*10**-6, 0., -0.00005],\n",
    "                [0.00001, 0., 0., -0.0001, 0., 0.00001, 1.*10**-6, 0.],\n",
    "                [0., 0., 0., -5.*10**-6, -0.0001, 0., 0., 0.],\n",
    "                [0., -9.*10**-6, 0., 0.00001, 0., -0.0002, 0., 0.00005],\n",
    "                [0., 0., 0., 0.00002, 0., 0., -0.0001, 0.],\n",
    "                [0., 0.00004, 0., 0., 0., 0.00005, 0., -0.00015]])\n",
    "\n",
    "matB=SP.array([[0., 0., 0., 0., 0., 0., 0., 0.],[0., 0., 1.5*10**-10, 0., 0., 0., \n",
    "  0., 0.],[0., -1.5*10**-10, 0., 0., 0., 0., 0., 0.],[0., 0., 0., 0.,\n",
    "   0., 0., 0., 0.],[0., 0., 0., 0., 0., 3.*10**-10, 0., 0.],[0., 0., \n",
    "  0., 0., -3.*10**-10, 0., 2.*10**-10, 0.],[0., 0., 0., 0., \n",
    "  0., -2.*10**-10, 0., 0.],[0., 0., 0., 0., 0., 0., 0., 0.]])"
   ]
  },
  {
   "cell_type": "code",
   "execution_count": null,
   "metadata": {},
   "outputs": [],
   "source": [
    "a = np.array()"
   ]
  }
 ],
 "metadata": {
  "kernelspec": {
   "display_name": "Python [conda env:riboraptor]",
   "language": "python",
   "name": "conda-env-riboraptor-py"
  },
  "language_info": {
   "codemirror_mode": {
    "name": "ipython",
    "version": 3
   },
   "file_extension": ".py",
   "mimetype": "text/x-python",
   "name": "python",
   "nbconvert_exporter": "python",
   "pygments_lexer": "ipython3",
   "version": "3.5.5"
  }
 },
 "nbformat": 4,
 "nbformat_minor": 2
}
