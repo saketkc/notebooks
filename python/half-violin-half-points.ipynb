{
 "cells": [
  {
   "cell_type": "code",
   "execution_count": 4,
   "metadata": {
    "ExecuteTime": {
     "end_time": "2018-02-23T03:05:33.023641Z",
     "start_time": "2018-02-23T03:05:32.651932Z"
    }
   },
   "outputs": [
    {
     "name": "stdout",
     "output_type": "stream",
     "text": [
      "Populating the interactive namespace from numpy and matplotlib\n"
     ]
    }
   ],
   "source": [
    "%pylab inline\n",
    "import pandas as pd\n",
    "from matplotlib.path import Path\n",
    "from matplotlib.patches import PathPatch\n",
    "\n",
    "def rand_jitter(data, stdev):\n",
    "    return data + np.random.randn(len(data)) * stdev\n",
    "\n",
    "def half_and_half_plot(data, x, y, plot_type='violin', \n",
    "                       markersize = 15, jitter=0.1, \n",
    "                       width=0.5, ax=None, **kwargs):\n",
    "    \"\"\"\n",
    "    Parameters\n",
    "    ----------\n",
    "    data : pd.Dataframe\n",
    "           Dataframe\n",
    "    x : str\n",
    "        Column of dataframe to use as xaxis\n",
    "    y : str\n",
    "        Column of dataframe to use as yaxis\n",
    "    plot_type : str\n",
    "                Plot violin or box\n",
    "    width : float\n",
    "            Width of box or violin plot    \n",
    "    marker_size : int\n",
    "                  Size of markers  \n",
    "    jitter : float\n",
    "             Used only when plot_type=violin\n",
    "    ax : matplotlib.Axes\n",
    "         Axis object to use for plotting\n",
    "             \n",
    "    \"\"\"\n",
    "    \n",
    "    data_grouped = data.groupby(x)\n",
    "    keys = data_grouped.groups.keys()\n",
    "    values = [data_grouped.get_group(key).sepal_length.tolist() for key in keys]\n",
    "    if ax is None:\n",
    "        f, ax = plt.subplots()\n",
    "    \n",
    "    key_colors = []\n",
    "    if plot_type == 'violin':\n",
    "        dist_plot = ax.violinplot(values, \n",
    "                                  widths=width,\n",
    "                                  points=getattr(kwargs, 'points', 200), \n",
    "                                  showmeans=getattr(kwargs, 'showmeans', False),\n",
    "                                  showextrema=getattr(kwargs, 'showextrema', False), \n",
    "                                  showmedians=getattr(kwargs, 'showmedians', False))\n",
    "        boundaries = dist_plot['bodies']\n",
    "        for bindex, b in enumerate(boundaries):\n",
    "                m = np.mean(b.get_paths()[0].vertices[:, 0])\n",
    "                b.get_paths()[0].vertices[:, 0] = np.clip(b.get_paths()[0].vertices[:, 0], -np.inf, m)\n",
    "                value = np.array(values[bindex])\n",
    "                y_path = b.get_paths()[0].vertices[:, 1]\n",
    "                x_path = b.get_paths()[0].vertices[:, 0]\n",
    "                xindex = np.array([0.985] * len(value))\n",
    "                marked = []\n",
    "                for v in value:\n",
    "                    yindex = np.argmin(np.abs(y_path-v))\n",
    "                    # fetch points from this yindex, less than or equidistant than our original point\n",
    "                    yval = y_path[yindex]\n",
    "                    min_dist = np.abs(yval-v)\n",
    "                    distances = np.abs(value-yval)\n",
    "                    dist_lesser_or_equ = np.where(distances <= min_dist)\n",
    "                    dist_lesser_or_equ = dist_lesser_or_equ[0]\n",
    "                    n_points = len(dist_lesser_or_equ)\n",
    "                    total_width = x_path[yindex]-1-bindex\n",
    "                    distance_per_point = total_width/float(n_points)\n",
    "                    for index, i in enumerate(dist_lesser_or_equ):\n",
    "                        if i not in marked:\n",
    "                            xindex[i] = xindex[i] + index*distance_per_point\n",
    "                            marked.append(i)\n",
    "\n",
    "                p = ax.scatter(2+bindex-xindex, value, s=markersize)\n",
    "                b.set_color(p.get_facecolor()[0])\n",
    "        ax.set_xticks(range(1, len(keys)+1))\n",
    "        ax.set_xticklabels(keys)\n",
    "        ax.set_xlabel(x)\n",
    "        ax.set_ylabel(y)\n",
    "    elif plot_type == 'box':\n",
    "        dist_plot = ax.boxplot(values,\n",
    "                               widths=width,\n",
    "                               showmeans=getattr(kwargs, 'showmeans', False),\n",
    "                               showfliers=getattr(kwargs, 'showfliers', False))        \n",
    "        boundaries = dist_plot['boxes']\n",
    "        stdev = jitter * width\n",
    "        for bindex, b in enumerate(dist_plot['boxes']):\n",
    "            value = np.array(values[bindex])\n",
    "            y_path = b.get_path().vertices[:, 1]\n",
    "            x_path = b.get_path().vertices[:, 0]\n",
    "            xindex = np.array([1+width/2.0] * len(value))\n",
    "            xindex = rand_jitter(xindex, stdev)\n",
    "            p = ax.scatter(xindex+bindex, value, s=markersize)\n",
    "            b.set_color(p.get_facecolor()[0])\n",
    "            xmid = (b.get_path().vertices[0,0] + b.get_path().vertices[1,0])/2.0\n",
    "            ymid = b.get_path().vertices[0,1]\n",
    "            xbotleft =  b.get_path().vertices[-1,0]\n",
    "            ytopleft =  b.get_path().vertices[-2,1]\n",
    "\n",
    "            lpath = Path(np.array([[xmid, ymid], [xbotleft, ymid], [xbotleft, ytopleft], [xmid, ytopleft]]))\n",
    "\n",
    "            patch = PathPatch(lpath, edgecolor=p.get_facecolor()[0], facecolor='white')    \n",
    "            b.remove()\n",
    "            ax.add_patch(patch)\n",
    "            key_colors.append(p.get_facecolor()[0])\n",
    "        ax.set_xticks(range(1, len(keys)+1))\n",
    "        ax.set_xticklabels(keys)\n",
    "        ax.set_xlabel(x)\n",
    "        ax.set_ylabel(y)\n",
    "        if not dist_plot['medians']:\n",
    "            return ax\n",
    "            \n",
    "        for bindex, b in enumerate(dist_plot['medians']):\n",
    "            xmid = (b.get_path().vertices[0,0] + b.get_path().vertices[1,0])/2.0\n",
    "            ymid = b.get_path().vertices[0,1]\n",
    "            xleft = b.get_path().vertices[0,0]\n",
    "            lpath = Path(np.array([[xmid, ymid], [xleft, ymid]]))\n",
    "            patch = PathPatch(lpath, edgecolor=key_colors[bindex], facecolor='white')\n",
    "            b.remove()\n",
    "            ax.add_patch(patch)\n",
    "    else:\n",
    "        raise NotImplementedError('{} not implemented'.format(plot_type))\n",
    "            \n",
    "    return ax"
   ]
  },
  {
   "cell_type": "code",
   "execution_count": 5,
   "metadata": {
    "ExecuteTime": {
     "end_time": "2018-02-23T03:05:35.849345Z",
     "start_time": "2018-02-23T03:05:35.437812Z"
    }
   },
   "outputs": [
    {
     "data": {
      "text/plain": [
       "<matplotlib.axes._subplots.AxesSubplot at 0x2adb933ac4d0>"
      ]
     },
     "execution_count": 5,
     "metadata": {},
     "output_type": "execute_result"
    },
    {
     "data": {
      "image/png": "[encoded data removed]",
      "text/plain": [
       "<matplotlib.figure.Figure at 0x2adb9346ba90>"
      ]
     },
     "metadata": {},
     "output_type": "display_data"
    }
   ],
   "source": [
    "iris = pd.read_csv('data/iris.csv')\n",
    "iris_grouped = iris.groupby('species')\n",
    "\n",
    "half_and_half_plot(iris, 'species', 'sepal_length', 'box', markersize=10)"
   ]
  },
  {
   "cell_type": "code",
   "execution_count": 6,
   "metadata": {
    "ExecuteTime": {
     "end_time": "2018-02-23T03:05:36.454129Z",
     "start_time": "2018-02-23T03:05:36.085051Z"
    }
   },
   "outputs": [
    {
     "data": {
      "text/plain": [
       "<matplotlib.axes._subplots.AxesSubplot at 0x2adb933cdd10>"
      ]
     },
     "execution_count": 6,
     "metadata": {},
     "output_type": "execute_result"
    },
    {
     "data": {
      "image/png": "[encoded data removed]",
      "text/plain": [
       "<matplotlib.figure.Figure at 0x2adb93198d50>"
      ]
     },
     "metadata": {},
     "output_type": "display_data"
    }
   ],
   "source": [
    "half_and_half_plot(iris, 'species', 'sepal_length', 'violin', markersize=10)"
   ]
  },
  {
   "cell_type": "code",
   "execution_count": null,
   "metadata": {},
   "outputs": [],
   "source": []
  }
 ],
 "metadata": {
  "kernelspec": {
   "display_name": "Python [default]",
   "language": "python",
   "name": "python2"
  },
  "language_info": {
   "codemirror_mode": {
    "name": "ipython",
    "version": 2
   },
   "file_extension": ".py",
   "mimetype": "text/x-python",
   "name": "python",
   "nbconvert_exporter": "python",
   "pygments_lexer": "ipython2",
   "version": "2.7.14"
  },
  "latex_envs": {
   "LaTeX_envs_menu_present": true,
   "autocomplete": true,
   "bibliofile": "Zotero.bib",
   "cite_by": "apalike",
   "current_citInitial": 1,
   "eqLabelWithNumbers": true,
   "eqNumInitial": 1,
   "hotkeys": {
    "equation": "Ctrl-E",
    "itemize": "Ctrl-I"
   },
   "labels_anchors": false,
   "latex_user_defs": false,
   "report_style_numbering": false,
   "user_envs_cfg": false
  },
  "toc": {
   "nav_menu": {},
   "number_sections": true,
   "sideBar": true,
   "skip_h1_title": false,
   "toc_cell": false,
   "toc_position": {},
   "toc_section_display": "block",
   "toc_window_display": false
  }
 },
 "nbformat": 4,
 "nbformat_minor": 2
}
