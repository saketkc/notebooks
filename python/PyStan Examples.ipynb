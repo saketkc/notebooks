{
 "cells": [
  {
   "cell_type": "markdown",
   "metadata": {
    "run_control": {
     "frozen": false,
     "read_only": false
    }
   },
   "source": [
    "# Linear Regression\n",
    "\n",
    "$y_i = \\alpha + \\beta x_i + \\epsilon_i$ where $\\epsilon_i \\sim N(0,\\sigma)$\n",
    "\n",
    "$\\implies$ $y_i - \\alpha - \\beta x_i \\sim N(0, \\sigma)$ $\\implies$ $ y_i \\sim N(\\alpha + \\beta x_i, \\sigma)$"
   ]
  },
  {
   "cell_type": "code",
   "execution_count": 12,
   "metadata": {
    "scrolled": true
   },
   "outputs": [
    {
     "name": "stderr",
     "output_type": "stream",
     "text": [
      "INFO:pystan:COMPILING THE C++ CODE FOR MODEL anon_model_36c78ca0d8f309377dc843e83f519328 NOW.\n"
     ]
    }
   ],
   "source": [
    "%matplotlib inline\n",
    "import matplotlib.pyplot as plt\n",
    "import seaborn as sns\n",
    "import numpy as np\n",
    "sns.set_style('whitegrid')\n",
    "sns.set_context('paper', font_scale=2)\n",
    "import pystan\n",
    "linear_regression = \"\"\"\n",
    "data {\n",
    "    int<lower=0> N;\n",
    "    vector[N] x;\n",
    "    vector[N] y;\n",
    "    \n",
    "}\n",
    "parameters {\n",
    "    real alpha;\n",
    "    real beta;\n",
    "    real<lower=0> sigma;\n",
    "}\n",
    "\n",
    "model {\n",
    "    y ~ normal(alpha+beta * x, sigma);\n",
    "}\n",
    "\"\"\"\n",
    "data = {'x': [1, 2, 3, 4, 5], \n",
    "        'y' : [1, 2, 1.3, 3.75, 2.25],\n",
    "       'N': 5}\n",
    "\n",
    "fit = pystan.stan(model_code=linear_regression, data=data,\n",
    "                  iter=1000, chains=4)"
   ]
  },
  {
   "cell_type": "code",
   "execution_count": 16,
   "metadata": {},
   "outputs": [
    {
     "data": {
      "text/plain": [
       "[<matplotlib.lines.Line2D at 0x7ff4048db710>]"
      ]
     },
     "execution_count": 16,
     "metadata": {},
     "output_type": "execute_result"
    },
    {
     "data": {
      "image/png": "[encoded data removed]",
      "text/plain": [
       "<matplotlib.figure.Figure at 0x7ff4040c3b50>"
      ]
     },
     "metadata": {},
     "output_type": "display_data"
    }
   ],
   "source": [
    "samples = fit.extract(permuted=True)\n",
    "alpha = np.median(samples['alpha'])\n",
    "beta = np.median(samples['beta'])\n",
    "sigma = np.median(samples['sigma'])\n",
    "\n",
    "xx = np.array([np.min(data['x']), np.max(data['x'])])\n",
    "plt.plot(xx, xx*beta)\n",
    "plt.plot(xx, xx*beta + sigma, '--', color='k')\n",
    "plt.plot(xx, xx*beta - sigma, '--', color='k')\n"
   ]
  },
  {
   "cell_type": "code",
   "execution_count": 10,
   "metadata": {},
   "outputs": [
    {
     "name": "stdout",
     "output_type": "stream",
     "text": [
      "Inference for Stan model: anon_model_36c78ca0d8f309377dc843e83f519328.\n",
      "4 chains, each with iter=1000; warmup=500; thin=1; \n",
      "post-warmup draws per chain=500, total post-warmup draws=2000.\n",
      "\n",
      "        mean se_mean     sd   2.5%    25%    50%    75%  97.5%  n_eff   Rhat\n",
      "alpha    0.7    0.15    2.6  -4.27  -0.28   0.76   1.71    5.7  300.0   1.01\n",
      "beta    0.46    0.04   0.78   -1.1   0.14   0.43   0.75   2.05  310.0   1.01\n",
      "sigma   1.89    0.11   1.77   0.66   1.01    1.4   2.17   5.92  270.0   1.01\n",
      "lp__   -3.69    0.13   1.95  -8.61  -4.63  -3.18  -2.23  -1.45  217.0   1.01\n",
      "\n",
      "Samples were drawn using NUTS at Wed May 24 13:03:14 2017.\n",
      "For each parameter, n_eff is a crude measure of effective sample size,\n",
      "and Rhat is the potential scale reduction factor on split chains (at \n",
      "convergence, Rhat=1).\n"
     ]
    }
   ],
   "source": [
    "print(fit)"
   ]
  },
  {
   "cell_type": "code",
   "execution_count": null,
   "metadata": {
    "collapsed": true
   },
   "outputs": [],
   "source": []
  }
 ],
 "metadata": {
  "hide_input": false,
  "kernelspec": {
   "display_name": "Python [conda root]",
   "language": "python",
   "name": "conda-root-py"
  },
  "language_info": {
   "codemirror_mode": {
    "name": "ipython",
    "version": 2
   },
   "file_extension": ".py",
   "mimetype": "text/x-python",
   "name": "python",
   "nbconvert_exporter": "python",
   "pygments_lexer": "ipython2",
   "version": "2.7.13"
  },
  "latex_envs": {
   "LaTeX_envs_menu_present": true,
   "autocomplete": true,
   "bibliofile": "biblio.bib",
   "cite_by": "apalike",
   "current_citInitial": 1,
   "eqLabelWithNumbers": true,
   "eqNumInitial": 1,
   "hotkeys": {
    "equation": "Ctrl-E",
    "itemize": "Ctrl-I"
   },
   "labels_anchors": false,
   "latex_user_defs": false,
   "report_style_numbering": false,
   "user_envs_cfg": false
  },
  "toc": {
   "colors": {
    "hover_highlight": "#DAA520",
    "running_highlight": "#FF0000",
    "selected_highlight": "#FFD700"
   },
   "moveMenuLeft": true,
   "nav_menu": {
    "height": "30px",
    "width": "252px"
   },
   "navigate_menu": true,
   "number_sections": true,
   "sideBar": true,
   "threshold": 4,
   "toc_cell": false,
   "toc_section_display": "block",
   "toc_window_display": true,
   "widenNotebook": false
  }
 },
 "nbformat": 4,
 "nbformat_minor": 2
}
