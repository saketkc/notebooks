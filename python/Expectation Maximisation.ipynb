{
 "cells": [
  {
   "cell_type": "code",
   "execution_count": 2,
   "metadata": {
    "collapsed": false
   },
   "outputs": [
    {
     "name": "stderr",
     "output_type": "stream",
     "text": [
      "/home/saket/anaconda/lib/python2.7/site-packages/IPython/kernel/__init__.py:13: ShimWarning: The `IPython.kernel` package has been deprecated. You should import from ipykernel or jupyter_client instead.\n",
      "  \"You should import from ipykernel or jupyter_client instead.\", ShimWarning)\n"
     ]
    }
   ],
   "source": [
    "%matplotlib notebook\n",
    "from __future__ import division\n",
    "from scipy.stats import binom as binomial\n",
    "import numpy as np\n",
    "import matplotlib.pyplot as plt\n",
    "import seaborn as sns\n",
    "#from ipywidgets import StaticInteract, RangeWidget\n",
    "import pandas as pd\n",
    "from IPython.display import display\n",
    "from sympy import init_printing, symbols, Eq\n",
    "init_printing()"
   ]
  },
  {
   "cell_type": "code",
   "execution_count": 3,
   "metadata": {
    "collapsed": false
   },
   "outputs": [],
   "source": [
    "coin_toss = []\n",
    "coin_toss.append('H T T T H H T H T H'.split())\n",
    "coin_toss.append('H H H H T H H H H H'.split())\n",
    "coin_toss.append('H T H H H H H T H H'.split())\n",
    "coin_toss.append('H T H T T T H H T T'.split())\n",
    "coin_toss.append('T H H H T H H H T H'.split())"
   ]
  },
  {
   "cell_type": "code",
   "execution_count": 4,
   "metadata": {
    "collapsed": false
   },
   "outputs": [],
   "source": [
    "df = pd.DataFrame(coin_toss)"
   ]
  },
  {
   "cell_type": "code",
   "execution_count": 5,
   "metadata": {
    "collapsed": false
   },
   "outputs": [
    {
     "data": {
      "text/html": [
       "<div>\n",
       "<table border=\"1\" class=\"dataframe\">\n",
       "  <thead>\n",
       "    <tr style=\"text-align: right;\">\n",
       "      <th></th>\n",
       "      <th>0</th>\n",
       "      <th>1</th>\n",
       "      <th>2</th>\n",
       "      <th>3</th>\n",
       "      <th>4</th>\n",
       "      <th>5</th>\n",
       "      <th>6</th>\n",
       "      <th>7</th>\n",
       "      <th>8</th>\n",
       "      <th>9</th>\n",
       "    </tr>\n",
       "  </thead>\n",
       "  <tbody>\n",
       "    <tr>\n",
       "      <th>0</th>\n",
       "      <td>H</td>\n",
       "      <td>T</td>\n",
       "      <td>T</td>\n",
       "      <td>T</td>\n",
       "      <td>H</td>\n",
       "      <td>H</td>\n",
       "      <td>T</td>\n",
       "      <td>H</td>\n",
       "      <td>T</td>\n",
       "      <td>H</td>\n",
       "    </tr>\n",
       "    <tr>\n",
       "      <th>1</th>\n",
       "      <td>H</td>\n",
       "      <td>H</td>\n",
       "      <td>H</td>\n",
       "      <td>H</td>\n",
       "      <td>T</td>\n",
       "      <td>H</td>\n",
       "      <td>H</td>\n",
       "      <td>H</td>\n",
       "      <td>H</td>\n",
       "      <td>H</td>\n",
       "    </tr>\n",
       "    <tr>\n",
       "      <th>2</th>\n",
       "      <td>H</td>\n",
       "      <td>T</td>\n",
       "      <td>H</td>\n",
       "      <td>H</td>\n",
       "      <td>H</td>\n",
       "      <td>H</td>\n",
       "      <td>H</td>\n",
       "      <td>T</td>\n",
       "      <td>H</td>\n",
       "      <td>H</td>\n",
       "    </tr>\n",
       "    <tr>\n",
       "      <th>3</th>\n",
       "      <td>H</td>\n",
       "      <td>T</td>\n",
       "      <td>H</td>\n",
       "      <td>T</td>\n",
       "      <td>T</td>\n",
       "      <td>T</td>\n",
       "      <td>H</td>\n",
       "      <td>H</td>\n",
       "      <td>T</td>\n",
       "      <td>T</td>\n",
       "    </tr>\n",
       "    <tr>\n",
       "      <th>4</th>\n",
       "      <td>T</td>\n",
       "      <td>H</td>\n",
       "      <td>H</td>\n",
       "      <td>H</td>\n",
       "      <td>T</td>\n",
       "      <td>H</td>\n",
       "      <td>H</td>\n",
       "      <td>H</td>\n",
       "      <td>T</td>\n",
       "      <td>H</td>\n",
       "    </tr>\n",
       "  </tbody>\n",
       "</table>\n",
       "</div>"
      ],
      "text/plain": [
       "   0  1  2  3  4  5  6  7  8  9\n",
       "0  H  T  T  T  H  H  T  H  T  H\n",
       "1  H  H  H  H  T  H  H  H  H  H\n",
       "2  H  T  H  H  H  H  H  T  H  H\n",
       "3  H  T  H  T  T  T  H  H  T  T\n",
       "4  T  H  H  H  T  H  H  H  T  H"
      ]
     },
     "execution_count": 5,
     "metadata": {},
     "output_type": "execute_result"
    }
   ],
   "source": [
    "df"
   ]
  },
  {
   "cell_type": "code",
   "execution_count": 6,
   "metadata": {
    "collapsed": false
   },
   "outputs": [
    {
     "data": {
      "image/png": "[encoded data removed]",
      "text/latex": [
       "$$\\left ( \\theta_{A}, \\quad 0.6\\right )$$"
      ],
      "text/plain": [
       "(θ_A, 0.6)"
      ]
     },
     "execution_count": 6,
     "metadata": {},
     "output_type": "execute_result"
    }
   ],
   "source": [
    "thetaA, thetaB = symbols('theta_A theta_B')\n",
    "a,b = thetaA, thetaB # Hack to display\n",
    "thetaA = 0.6\n",
    "thetaB = 0.5\n",
    "a , thetaA\n"
   ]
  },
  {
   "cell_type": "code",
   "execution_count": 7,
   "metadata": {
    "collapsed": false
   },
   "outputs": [
    {
     "data": {
      "image/png": "[encoded data removed]",
      "text/latex": [
       "$$\\left ( \\theta_{B}, \\quad 0.5\\right )$$"
      ],
      "text/plain": [
       "(θ_B, 0.5)"
      ]
     },
     "execution_count": 7,
     "metadata": {},
     "output_type": "execute_result"
    }
   ],
   "source": [
    "b, thetaB"
   ]
  },
  {
   "cell_type": "code",
   "execution_count": 8,
   "metadata": {
    "collapsed": false
   },
   "outputs": [],
   "source": [
    "## Observed Case\n",
    "\n",
    "observed = ['B', 'A', 'A', 'B', 'A']\n",
    "index_A = [i for i,x in enumerate(observed) if x=='A']\n",
    "index_B = [i for i,x in enumerate(observed) if x=='B']\n",
    "total_tosses = df.size\n",
    "A_tosses = df.iloc[index_A].unstack()\n",
    "B_tosses = df.iloc[index_B].unstack()\n",
    "\n",
    "A_heads = A_tosses.value_counts()['H']\n",
    "B_heads = B_tosses.value_counts()['H']\n",
    "\n",
    "theta_A = A_heads/A_tosses.size\n",
    "theta_B = B_heads/B_tosses.size"
   ]
  },
  {
   "cell_type": "code",
   "execution_count": 9,
   "metadata": {
    "collapsed": false
   },
   "outputs": [
    {
     "data": {
      "image/png": "[encoded data removed]",
      "text/latex": [
       "$$\\left ( \\theta_{A}, \\quad 0.8\\right )$$"
      ],
      "text/plain": [
       "(θ_A, 0.8)"
      ]
     },
     "execution_count": 9,
     "metadata": {},
     "output_type": "execute_result"
    }
   ],
   "source": [
    "(a, theta_A)"
   ]
  },
  {
   "cell_type": "code",
   "execution_count": 10,
   "metadata": {
    "collapsed": false
   },
   "outputs": [
    {
     "data": {
      "image/png": "[encoded data removed]",
      "text/latex": [
       "$$\\left ( \\theta_{B}, \\quad 0.45\\right )$$"
      ],
      "text/plain": [
       "(θ_B, 0.45)"
      ]
     },
     "execution_count": 10,
     "metadata": {},
     "output_type": "execute_result"
    }
   ],
   "source": [
    "(b, theta_B)"
   ]
  },
  {
   "cell_type": "code",
   "execution_count": 11,
   "metadata": {
    "collapsed": false
   },
   "outputs": [
    {
     "data": {
      "image/png": "[encoded data removed]",
      "text/latex": [
       "$$\\left [ \\left [ \\left [ 2.2457446305, \\quad 2.2457446305\\right ], \\quad \\left [ 2.7542553695, \\quad 2.7542553695\\right ]\\right ], \\quad \\left [ \\left [ 7.24486965509, \\quad 0.804985517232\\right ], \\quad \\left [ 1.75513034491, \\quad 0.195014482768\\right ]\\right ], \\quad \\left [ \\left [ 5.86773726407, \\quad 1.46693431602\\right ], \\quad \\left [ 2.13226273593, \\quad 0.533065683982\\right ]\\right ], \\quad \\left [ \\left [ 1.40862453539, \\quad 2.11293680308\\right ], \\quad \\left [ 2.59137546461, \\quad 3.88706319692\\right ]\\right ], \\quad \\left [ \\left [ 4.53050581129, \\quad 1.9416453477\\right ], \\quad \\left [ 2.46949418871, \\quad 1.0583546523\\right ]\\right ]\\right ]$$"
      ],
      "text/plain": [
       "[[[2.2457446305, 2.2457446305], [2.7542553695, 2.7542553695]], [[7.24486965509\n",
       ", 0.804985517232], [1.75513034491, 0.195014482768]], [[5.86773726407, 1.466934\n",
       "31602], [2.13226273593, 0.533065683982]], [[1.40862453539, 2.11293680308], [2.\n",
       "59137546461, 3.88706319692]], [[4.53050581129, 1.9416453477], [2.46949418871, \n",
       "1.0583546523]]]"
      ]
     },
     "execution_count": 11,
     "metadata": {},
     "output_type": "execute_result"
    }
   ],
   "source": [
    "thetaA = 0.6\n",
    "thetaB = 0.5\n",
    "\n",
    "def em(theta_old):\n",
    "    row_prob = []\n",
    "    ## Expectation\n",
    "    for row in coin_toss:\n",
    "        count_heads = row.count('H')\n",
    "        p_a = binomial.pmf(count_heads, len(row), theta_old['A'])\n",
    "        p_b = binomial.pmf(count_heads, len(row), theta_old['B'])\n",
    "        p_t = p_a+p_b\n",
    "        p_a = p_a/p_t\n",
    "        p_b = p_b/p_t\n",
    "        row_prob.append({'A': p_a, 'B': p_b, 'count_heads': count_heads, 'total_tosses': len(row)})\n",
    "        \n",
    "    ## Maximisation\n",
    "    new_coin_toss = []\n",
    "    for row in row_prob:\n",
    "        total_tosses = row['total_tosses']\n",
    "        total_heads = row['count_heads']\n",
    "        A_heads = row['A']*total_heads\n",
    "        A_tails = row['A']*(total_tosses-total_heads)\n",
    "        B_heads = row['B']*total_heads\n",
    "        B_tails = row['B']*(total_tosses-total_heads)\n",
    "        new_coin_toss.append([[A_heads, A_tails], [B_heads, B_tails]])\n",
    "    return new_coin_toss\n",
    "\n",
    "theta = {'A': thetaA, 'B': thetaB}\n",
    "em(theta)"
   ]
  },
  {
   "cell_type": "code",
   "execution_count": null,
   "metadata": {
    "collapsed": true
   },
   "outputs": [],
   "source": []
  }
 ],
 "metadata": {
  "kernelspec": {
   "display_name": "Python 2",
   "language": "python",
   "name": "python2"
  },
  "language_info": {
   "codemirror_mode": {
    "name": "ipython",
    "version": 2
   },
   "file_extension": ".py",
   "mimetype": "text/x-python",
   "name": "python",
   "nbconvert_exporter": "python",
   "pygments_lexer": "ipython2",
   "version": "2.7.10"
  }
 },
 "nbformat": 4,
 "nbformat_minor": 0
}
