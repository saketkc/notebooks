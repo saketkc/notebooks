{
 "cells": [
  {
   "cell_type": "code",
   "execution_count": 51,
   "metadata": {
    "collapsed": false
   },
   "outputs": [],
   "source": [
    "%matplotlib inline\n",
    "from __future__ import division\n",
    "import matplotlib\n",
    "matplotlib.rcParams['figure.figsize'] = (10, 6)\n",
    "import matplotlib.pyplot as plt\n",
    "import base64\n",
    "import os\n",
    "import pandas as pd\n",
    "from Bio import motifs\n",
    "import subprocess\n",
    "import shutil\n",
    "import cPickle as pickle\n",
    "from Bio.motifs.jaspar.db import JASPAR5\n",
    "from IPython.display import display, Image, HTML\n",
    "\n",
    "from Bio import pairwise2\n",
    "from Bio.pairwise2 import format_alignment \n",
    "\n",
    "specie_mapping = pd.read_table('http://jaspar.genereg.net/html/DOWNLOAD/database/TAX.txt', \n",
    "                               header=None, index_col=0,\n",
    "                              names= ['ID','SpecieName'])"
   ]
  },
  {
   "cell_type": "code",
   "execution_count": 52,
   "metadata": {
    "collapsed": true
   },
   "outputs": [],
   "source": [
    "def job_connect():\n",
    "    JASPAR_DB_HOST = 'vm5.cmmt.ubc.ca'\n",
    "    JASPAR_DB_NAME = 'JASPAR_2016'\n",
    "    return JASPAR5(host=JASPAR_DB_HOST, \n",
    "                   name=JASPAR_DB_NAME, \n",
    "                   user='jaspar_r', \n",
    "                   password='')"
   ]
  },
  {
   "cell_type": "code",
   "execution_count": 53,
   "metadata": {
    "collapsed": false
   },
   "outputs": [],
   "source": [
    "try:\n",
    "    all_motifs_load = pickle.load(open('static/all_motifs.pickle','rb'))\n",
    "except IOError:\n",
    "    jdb =  job_connect()\n",
    "    all_motifs = jdb.fetch_motifs()\n",
    "    picklestring = pickle.dump(all_motifs, open('static/all_motifs.pickle','wb'))"
   ]
  },
  {
   "cell_type": "code",
   "execution_count": 54,
   "metadata": {
    "collapsed": true
   },
   "outputs": [],
   "source": [
    "def display_motifs(motifs=[]):\n",
    "    for i in range(0,len(motifs)-1):\n",
    "        m1 = motifs[i]\n",
    "        m2 = motifs[i+1]\n",
    "        specie1 = ('-').join(specie_mapping.loc[int(s), 'SpecieName'] for s in m1.species)\n",
    "        name1 = m1.name\n",
    "        specie2 = ('-').join(specie_mapping.loc[int(s), 'SpecieName'] for s in m2.species)\n",
    "        name2 = m2.name\n",
    "        logo1 = '{}-{}.png'.format(name1, specie1)\n",
    "        logo2 = '{}-{}.png'.format(name2, specie2)\n",
    "        m1.weblogo('static/{}'.format(logo1), logo_title=logo1[:-3])\n",
    "        m2.weblogo('static/{}'.format(logo2), logo_title=logo2[:-3])        \n",
    "        with open('static/{}'.format(logo1), \"rb\") as image_file:\n",
    "            im1 = 'data:image/png;base64,' +\\\n",
    "            base64.b64encode(image_file.read())\n",
    "        with open('static/{}'.format(logo2), \"rb\") as image_file:\n",
    "            im2 = 'data:image/png;base64,' +\\\n",
    "            base64.b64encode(image_file.read())\n",
    "    \n",
    "        s = \"\"\"<center><table>\n",
    "        <tr>\n",
    "        <td><img src=\"%s\" style=\"width: 400px;\"/></td>\n",
    "        <td><img src=\"%s\" style=\"width: 400px;\"/></td>\n",
    "        </tr></table></center>\"\"\"%(im1, im2)\n",
    "        t=HTML(s)\n",
    "        return display(t)"
   ]
  },
  {
   "cell_type": "code",
   "execution_count": 55,
   "metadata": {
    "collapsed": true
   },
   "outputs": [],
   "source": [
    "def write_motifs(in_motifs):\n",
    "    for motif in in_motifs:\n",
    "        specie = ('-').join(specie_mapping.loc[int(s), 'SpecieName'] for s in motif.species)\n",
    "        name = motif.name\n",
    "        fn = 'static/{}-{}.pfm'.format(name, specie.replace(' ','_'))\n",
    "        out_fn = fn[:-3]+'meme'\n",
    "        with open(fn, 'w') as f:\n",
    "            f.write(motifs.write([motif], 'pfm'))\n",
    "        subprocess.call(['jaspar2meme', '-pfm', 'static'], cwd=os.getcwd(), stdout=open(out_fn,'w'))\n",
    "        os.remove(os.path.abspath(fn))"
   ]
  },
  {
   "cell_type": "code",
   "execution_count": 56,
   "metadata": {
    "collapsed": true
   },
   "outputs": [],
   "source": [
    "#ctcf_motifs = jdb.fetch_motifs_by_name('CTCF')\n",
    "#display_motifs(ctcf_motifs)\n",
    "#write_motifs(ctcf_motifs)"
   ]
  },
  {
   "cell_type": "code",
   "execution_count": 57,
   "metadata": {
    "collapsed": false
   },
   "outputs": [],
   "source": [
    "set_tf = set()\n",
    "for motif_m in all_motifs_load:\n",
    "    set_tf.add(motif_m.name)    "
   ]
  },
  {
   "cell_type": "code",
   "execution_count": 58,
   "metadata": {
    "collapsed": false
   },
   "outputs": [],
   "source": [
    "tf_wise_motifs = {k:[] for k in set_tf}\n",
    "for tf in set_tf:\n",
    "    species_tf = [m for m in all_motifs_load if m.name == tf]\n",
    "    tf_wise_motifs[tf] += species_tf\n"
   ]
  },
  {
   "cell_type": "markdown",
   "metadata": {
    "collapsed": true
   },
   "source": [
    "## Maximum number of species belong to a certain TF"
   ]
  },
  {
   "cell_type": "code",
   "execution_count": 59,
   "metadata": {
    "collapsed": false
   },
   "outputs": [
    {
     "data": {
      "text/plain": [
       "2"
      ]
     },
     "execution_count": 59,
     "metadata": {},
     "output_type": "execute_result"
    }
   ],
   "source": [
    "max(len(tf_wise_motifs[x]) for x in set_tf)"
   ]
  },
  {
   "cell_type": "code",
   "execution_count": 38,
   "metadata": {
    "collapsed": true
   },
   "outputs": [],
   "source": [
    "ctcf_motifs = tf_wise_motifs['CTCF']\n",
    "ctcf_1 = ctcf_motifs[0]\n",
    "ctcf_2 = ctcf_motifs[1]"
   ]
  },
  {
   "cell_type": "code",
   "execution_count": 39,
   "metadata": {
    "collapsed": false
   },
   "outputs": [
    {
     "name": "stdout",
     "output_type": "stream",
     "text": [
      "YNRCCASYAGRKGGCRSYN\n",
      "NCNMYAGRTGGCGCY\n"
     ]
    }
   ],
   "source": [
    "m1 = (str(ctcf_1.degenerate_consensus))\n",
    "m2 = (str(ctcf_2.degenerate_consensus))\n",
    "print(m1)\n",
    "print(m2)"
   ]
  },
  {
   "cell_type": "code",
   "execution_count": 49,
   "metadata": {
    "collapsed": false
   },
   "outputs": [
    {
     "name": "stdout",
     "output_type": "stream",
     "text": [
      "YNNCCASYAGGKGGCRSNN\n",
      "    |||||||||||||\n",
      "----CNNYAGRTGGCGC--\n",
      "  Score=20\n",
      "\n"
     ]
    }
   ],
   "source": [
    "for a in pairwise2.align.localms('YNNCCASYAGGKGGCRSNN', 'CNNYAGRTGGCGC', 2, 1, -3, -3): \n",
    "    print(format_alignment(*a)) "
   ]
  },
  {
   "cell_type": "markdown",
   "metadata": {},
   "source": [
    "## Pearson Correlation Coefficient\n",
    "\\begin{align*}\n",
    "\\mathcal{A} &= \\{A,C,T,G\\}\\\\\n",
    "PCC(X,Y) &= \\frac{\\sum_{a \\in A} (X_a-\\bar{X})(Y_b-\\bar{Y})}{\\sum_{a \\in A} (X_a-\\bar{X})^2 \\sum_{a \\in A}(Y_b-\\bar{Y})}\\\\\n",
    "\\bar{X} &= \\frac{1}{|\\mathcal{A}|} \\sum_{a\\in A} X_a\\\\\n",
    "\\bar{Y} &= \\frac{1}{|\\mathcal{A}|} \\sum_{a\\in A} Y_a\\\\\n",
    "\\end{align*}\n"
   ]
  },
  {
   "cell_type": "code",
   "execution_count": 149,
   "metadata": {
    "collapsed": true
   },
   "outputs": [],
   "source": [
    "A = ['A', 'T', 'C', 'G']\n",
    "import numpy as np\n",
    "def calculate_pearson_corr(motif1,motif2, start=None):\n",
    "    \"\"\"\n",
    "    Arguments\n",
    "    ----------\n",
    "    motif1: Bio.motifs\n",
    "        motif instance of first motif\n",
    "        \n",
    "    motif2: Bio.motifs\n",
    "        motif instance of seocnd\n",
    "        \n",
    "    start: int\n",
    "        position of motif1 where alignment starts\n",
    "        \n",
    "    end: int\n",
    "        position of motif1 where alignment ends\n",
    "    Questions\n",
    "    ---------\n",
    "    This simply ignores the non-overlapping sequence of the motifs. I need\n",
    "    to see what appraoches are taken\n",
    "    \"\"\"\n",
    "    pwm1 = motif1.pwm\n",
    "    pwm2 = motif2.pwm\n",
    "    assert motif1.length >= motif2.length\n",
    "    end = motif2.length+start\n",
    "    #This step is mostly redundant\n",
    "    xbar = [1/4*sum(pwm1[x][i] for x in A) for i in range(start,end)]\n",
    "    ybar = [1/4*sum(pwm2[x][i] for x in A) for i in range(0,motif2.length)]\n",
    "    \n",
    "    \n",
    "    sxy = np.array([sum((pwm1[x][i]-xbar[i])*(pwm2[x][i]-ybar[i]) for x in A) for i in range(0,motif2.length)])\n",
    "    \n",
    "    \n",
    "    sxx = np.array([sum((pwm1[x][i]-xbar[i])**2 for x in A) for i in range(0,motif2.length)])\n",
    "    syy = np.array([sum((pwm2[x][i]-ybar[i])**2 for x in A) for i in range(0,motif2.length)])\n",
    "    \n",
    "    pcc = sxy/(np.sqrt(sxx*syy))\n",
    "    return pcc"
   ]
  },
  {
   "cell_type": "code",
   "execution_count": 150,
   "metadata": {
    "collapsed": false
   },
   "outputs": [
    {
     "data": {
      "text/plain": [
       "1.0"
      ]
     },
     "execution_count": 150,
     "metadata": {},
     "output_type": "execute_result"
    }
   ],
   "source": [
    "pwm = ctcf_1.pwm\n",
    "pwm['A'][0]+pwm['C'][0]+pwm['T'][0]+pwm['G'][0]"
   ]
  },
  {
   "cell_type": "code",
   "execution_count": 151,
   "metadata": {
    "collapsed": true
   },
   "outputs": [],
   "source": [
    "aln = pairwise2.align.localms('YNNCCASYAGGKGGCRSNN', 'CNNYAGRTGGCGC', 2, 1, -3, -3)"
   ]
  },
  {
   "cell_type": "code",
   "execution_count": 152,
   "metadata": {
    "collapsed": true
   },
   "outputs": [],
   "source": [
    "x=aln[0]"
   ]
  },
  {
   "cell_type": "code",
   "execution_count": 153,
   "metadata": {
    "collapsed": false
   },
   "outputs": [
    {
     "data": {
      "text/plain": [
       "array([ 0.77698474,  0.56502891,  0.95824228,  0.76730586,  0.63086166,\n",
       "        0.99913666,  0.53723189,  0.20218959,  0.02923645,  0.99997915,\n",
       "        0.85489613,  0.07148298,  0.99899281,  0.03657037,  0.77535241])"
      ]
     },
     "execution_count": 153,
     "metadata": {},
     "output_type": "execute_result"
    }
   ],
   "source": [
    "calculate_pearson_corr(ctcf_1, ctcf_2,4)"
   ]
  },
  {
   "cell_type": "code",
   "execution_count": 154,
   "metadata": {
    "collapsed": false
   },
   "outputs": [
    {
     "data": {
      "text/html": [
       "<center><table>\n",
       "        <tr>\n",
       "        <td><img src=\"data:image/png;base64,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\" style=\"width: 400px;\"/></td>\n",
       "        <td><img src=\"data:image/png;base64,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\" style=\"width: 400px;\"/></td>\n",
       "        </tr></table></center>"
      ],
      "text/plain": [
       "<IPython.core.display.HTML object>"
      ]
     },
     "metadata": {},
     "output_type": "display_data"
    }
   ],
   "source": [
    "display_motifs([ctcf_1,ctcf_2])"
   ]
  }
 ],
 "metadata": {
  "kernelspec": {
   "display_name": "Python 2",
   "language": "python",
   "name": "python2"
  },
  "language_info": {
   "codemirror_mode": {
    "name": "ipython",
    "version": 2
   },
   "file_extension": ".py",
   "mimetype": "text/x-python",
   "name": "python",
   "nbconvert_exporter": "python",
   "pygments_lexer": "ipython2",
   "version": "2.7.11"
  }
 },
 "nbformat": 4,
 "nbformat_minor": 0
}
