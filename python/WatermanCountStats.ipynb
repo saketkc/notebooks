{
 "cells": [
  {
   "cell_type": "markdown",
   "metadata": {},
   "source": [
    "# Implementation of Generalized correlation measure using count statistics for gene expression data with ordered samples\n",
    "\n",
    "https://academic.oup.com/bioinformatics/article/34/4/617/4474788"
   ]
  },
  {
   "cell_type": "markdown",
   "metadata": {},
   "source": [
    "Given two times series $\\mathbf{x} = (x_1, x_2 \\dots x_m)$ and $\\mathbf{y} = (y_1, y_2, \\dots, y_n)$, we want to define a correlation measure that captures local association between $\\mathbf{x}$ and $\\mathbf{y}$ even in cases when yhey are not aligned. Given there are localized correaltions, the two time series cannot be aligned globally. That is, there are local subsequences which exhibit local correlation. We do not know apriori the location of the subsequences, but probably know how much far apart at the maximum they can occur in.\n",
    "\n",
    "Define $\\phi$ a rank function, such that $\\phi(x_i, x_{i+1} \\dots x_{i+n}) = (i_1, i_2, i_3 \\dots i_n)$ such that $x_({i_1}) = x_1$, $x_({i_2}) = x_2$,and so on, where $x_(j)$ represents the $j^{th}$ order statistic. To calrify, an example would be $\\phi((7,3,4)) = (3,1,2)$ as $3 < 4 < 7$\n",
    "\n",
    "Also define $\\mathbb{I}_(i, j)^+$ to be the indicator when the length $k$ subsequence starting at $i^{th}$ position of $\\mathbf{x}$ and $j^{th}$ position of $\\mathbf{y}$ have the **identical** ranking. That is:\n",
    "$$\n",
    "\\mathbb{I}_(i, j)^+ = \\mathbb{I}(\\phi((x_{i}, x_{i+1}, \\dots x_{i+k-1})) = \\phi((y_{j}, y_{j+1}, \\dots y_{j+k-1}))\n",
    "$$\n",
    "\n",
    "Similary, when the rank patterns are completely **reversed**:\n",
    "$$\n",
    "\\mathbb{I}_(i, j)^- = \\mathbb{I}(\\phi((x_{i}, x_{i+1}, \\dots x_{i+k-1})) = \\phi((-y_{j}, -y_{j+1}, \\dots y_{j+k-1}))\n",
    "$$\n",
    "\n",
    "For some maximum lag difference of $d$ between $x_i$ and $y_j$, define $v =(i,j)$; $S = \\{ v = (i, j) | 1 \\leq i \\leq m-k+1;  1 \\leq j \\leq n-k+1, |i-j| \\leq d \\}$, then correaltions measures are deined to be:\n",
    "\\begin{align*}\n",
    "V^+ &= \\sum_{v\\in S} \\mathbb{I}_v^+\\\\\n",
    "V^- &= \\sum_{v\\in S} \\mathbb{I}_v^-\\\\\n",
    "V &= V^+ + V^-\n",
    "\\end{align*}\n",
    "\n",
    "\n",
    "Assumption 1: Either of $\\mathbf{x}$ or $\\mathbf{y}$ has an exchangable distribution, ithat is any permutation of $\\mathbb{x} = (x_{i_1}, x_{i_2}, \\dots x_{i_n})$ produces the same joint probability distirbution as $(x_1, x_2, \\dots x_n$). \n",
    "\n",
    "Assumption 2: $\\mathbf{x}$ and $\\mathbf{y}$ are independent,\n",
    "\n",
    "WLOG consider $m=n$\n",
    "\n",
    "Because of Assumption 1, $P\\left(\\phi((y_i, y_{i+1}, \\dots y_{i+k-1})) = r \\right) = \\frac{1}{k!}$ as each pemutation is equally likely.\n",
    "\n",
    "\\begin{align*}\n",
    "\\mathbb{E}[I_{i,j}]^+ &= \\sum_r P\\left(\\phi((x_i, x_{i+1}, \\dots x_{i+k-1})) = r , \\phi((y_i, y_{i+1}, \\dots y_{i+k-1})) = r \\right) \\\\\n",
    "&=  \\sum_r  P\\left(\\phi((x_i, x_{i+1}, \\dots x_{i+k-1})) = r | \\phi((y_i, y_{i+1}, \\dots y_{i+k-1})) = r \\right) P\\left(\\phi((y_i, y_{i+1}, \\dots y_{i+k-1})) = r \\right) \\\\\n",
    "&=  \\sum_r  P\\left(\\phi((x_i, x_{i+1}, \\dots x_{i+k-1})) = r \\right) P\\left(\\phi((y_i, y_{i+1}, \\dots y_{i+k-1})) = r \\right)  \\because \\text{$\\mathbf{x,y}$ are independent}\\\\\n",
    "&= \\frac{1}{k!} \\sum_r  P\\left(\\phi((x_i, x_{i+1}, \\dots x_{i+k-1})) = r \\right) P\\left(\\phi((y_i, y_{i+1}, \\dots y_{i+k-1})) = r \\right) \\\\\n",
    "&= \\frac{1}{k!} \n",
    "\\end{align*}\n",
    "\n",
    "\n",
    "Similarly, \n",
    "$$\n",
    "\\mathbb{E}[I_{i,j}]^- = \\frac{1}{k!} \n",
    "$$\n",
    "\n",
    "Let $n_{k,d}$ represent the total number of terms given the constraints $1 \\leq i \\leq m-k+1;  1 \\leq j \\leq n-k+1, |i-j| \\leq d \\}$ We have $\\bar{n} = n-k+1$ such $i$ to be summed over.\n",
    "\n",
    "Consider $ j \\leq d$, then $j-d \\leq i \\leq j+d$ then each $j$ has $2d+1$ positions to be summed over. However $j <d$ leads to edge effects. This contributes to $2 \\times \\frac{d(d+1)}{2}$\n",
    "\n",
    "Thus,\n",
    "$$\n",
    "\\mathbb{E}[V] = \\frac{2}{k!} ( (2d+1)(n-k+1) - d(d+1) )\n",
    "$$\n",
    "\n",
    "Variance calculations : TODO\n"
   ]
  },
  {
   "cell_type": "code",
   "execution_count": 37,
   "metadata": {},
   "outputs": [
    {
     "name": "stdout",
     "output_type": "stream",
     "text": [
      "Populating the interactive namespace from numpy and matplotlib\n"
     ]
    }
   ],
   "source": [
    "%pylab inline"
   ]
  },
  {
   "cell_type": "code",
   "execution_count": 38,
   "metadata": {},
   "outputs": [],
   "source": [
    "def corr(x, y, k, d):\n",
    "    x = np.asarray(x)\n",
    "    y = np.asarray(y)\n",
    "    m = len(x)\n",
    "    n = len(y)\n",
    "    Vp = np.zeros((m,n))\n",
    "    Vn = np.zeros((m,n))\n",
    "    for i in range(0, m-k+1):\n",
    "        for j in range(max(0, i-d), min(n-k, i+d)+1):\n",
    "            xsub = x[range(i, i+k)]\n",
    "            ysub = y[range(j, j+k)]\n",
    "            rankx = np.argsort(xsub)\n",
    "            ranky = np.argsort(ysub)\n",
    "            indp_ij = 0\n",
    "            indn_ij = 0\n",
    "            if np.array_equal(rankx, ranky):\n",
    "                indp_ij = 1\n",
    "            rankyn = np.argsort(-ysub)\n",
    "            if np.array_equal(rankx, rankyn):\n",
    "                indn_ij = 1\n",
    "            Vp[i,j] = indp_ij\n",
    "            Vn[i,j] = indn_ij\n",
    "    return Vp, Vn\n",
    "    "
   ]
  },
  {
   "cell_type": "code",
   "execution_count": 39,
   "metadata": {},
   "outputs": [],
   "source": [
    "x = [1.2, 2.3, 3.5, 4.1, 5.8]\n",
    "y = [3.1, 2.4, 0.9, 4.3, 5.5]\n",
    "Vp, Vn = corr(x, y, 3, 1)"
   ]
  },
  {
   "cell_type": "code",
   "execution_count": 40,
   "metadata": {},
   "outputs": [
    {
     "data": {
      "text/plain": [
       "array([[ 0.,  0.,  0.,  0.,  0.],\n",
       "       [ 0.,  0.,  1.,  0.,  0.],\n",
       "       [ 0.,  0.,  1.,  0.,  0.],\n",
       "       [ 0.,  0.,  0.,  0.,  0.],\n",
       "       [ 0.,  0.,  0.,  0.,  0.]])"
      ]
     },
     "execution_count": 40,
     "metadata": {},
     "output_type": "execute_result"
    }
   ],
   "source": [
    "Vp"
   ]
  },
  {
   "cell_type": "code",
   "execution_count": 41,
   "metadata": {},
   "outputs": [
    {
     "data": {
      "text/plain": [
       "array([[ 1.,  0.,  0.,  0.,  0.],\n",
       "       [ 1.,  0.,  0.,  0.,  0.],\n",
       "       [ 0.,  0.,  0.,  0.,  0.],\n",
       "       [ 0.,  0.,  0.,  0.,  0.],\n",
       "       [ 0.,  0.,  0.,  0.,  0.]])"
      ]
     },
     "execution_count": 41,
     "metadata": {},
     "output_type": "execute_result"
    }
   ],
   "source": [
    "Vn"
   ]
  },
  {
   "cell_type": "code",
   "execution_count": null,
   "metadata": {},
   "outputs": [],
   "source": []
  }
 ],
 "metadata": {
  "kernelspec": {
   "display_name": "Python [default]",
   "language": "python",
   "name": "python2"
  },
  "language_info": {
   "codemirror_mode": {
    "name": "ipython",
    "version": 2
   },
   "file_extension": ".py",
   "mimetype": "text/x-python",
   "name": "python",
   "nbconvert_exporter": "python",
   "pygments_lexer": "ipython2",
   "version": "2.7.14"
  }
 },
 "nbformat": 4,
 "nbformat_minor": 2
}
