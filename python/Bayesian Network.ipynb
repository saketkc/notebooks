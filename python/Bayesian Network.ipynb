{
 "cells": [
  {
   "cell_type": "markdown",
   "metadata": {},
   "source": [
    "## [Points of Significance](http://www.nature.com/collections/qghhqm/pointsofsignificance)\n",
    "\n",
    "[Bayesian Networks](http://www.nature.com/nmeth/journal/v12/n9/full/nmeth.3550.html)\n",
    "\n",
    "See: http://www.nature.com/nmeth/journal/v12/n9/full/nmeth.3550.html"
   ]
  },
  {
   "cell_type": "code",
   "execution_count": 18,
   "metadata": {
    "collapsed": false
   },
   "outputs": [],
   "source": [
    "from pgmpy.factors import TabularCPD\n",
    "from pgmpy.models import BayesianModel\n",
    "from pgmpy.inference import VariableElimination"
   ]
  },
  {
   "cell_type": "code",
   "execution_count": 50,
   "metadata": {
    "collapsed": false
   },
   "outputs": [],
   "source": [
    "A_cpd = TabularCPD(\n",
    "    variable='A',\n",
    "    variable_card=2,\n",
    "    values=[[0.2, 0.8]])\n",
    "\n",
    "B_cpd = TabularCPD(\n",
    "    variable='B',\n",
    "    variable_card=2,\n",
    "    values=[[0.9, 0.1]])\n",
    "\n",
    "C_cpd = TabularCPD(\n",
    "    variable='C',\n",
    "    variable_card=2,\n",
    "    values=[[1-0.05, 1-0.60, 1-0.75, 1-0.90],\n",
    "            [1-0.95, 1-0.40, 1-0.25, 1-0.10]],\n",
    "    evidence=['B', 'A'],\n",
    "    evidence_card=[2, 2])\n",
    "\n",
    "D_cpd = TabularCPD(\n",
    "    variable='D',\n",
    "    variable_card=2,\n",
    "    evidence = ['B'],\n",
    "    values = [[0.25, 0.80],\n",
    "             [0.75, 0.20]], \n",
    "    evidence_card = [2])\n",
    "\n",
    "E_cpd = TabularCPD(\n",
    "    variable='E',\n",
    "    variable_card=2,\n",
    "    evidence = ['C'],\n",
    "    values = [[0.95, 0.15],\n",
    "             [0.05, 0.85]], \n",
    "    evidence_card = [2])"
   ]
  },
  {
   "cell_type": "code",
   "execution_count": 51,
   "metadata": {
    "collapsed": true
   },
   "outputs": [],
   "source": [
    "gene_model = BayesianModel([('A', 'C'),\n",
    "                            ('B', 'C'),\n",
    "                            ('C', 'E'),\n",
    "                            ('B', 'D')])\n",
    "gene_model.add_cpds(A_cpd,B_cpd,C_cpd,D_cpd,E_cpd)"
   ]
  },
  {
   "cell_type": "code",
   "execution_count": 52,
   "metadata": {
    "collapsed": true
   },
   "outputs": [],
   "source": [
    "gene_infer = VariableElimination(gene_model)\n",
    "prob_C = gene_infer.query(variables='C')"
   ]
  },
  {
   "cell_type": "code",
   "execution_count": 53,
   "metadata": {
    "collapsed": false
   },
   "outputs": [
    {
     "name": "stdout",
     "output_type": "stream",
     "text": [
      "╒═════╤══════════╕\n",
      "│ C   │   phi(C) │\n",
      "╞═════╪══════════╡\n",
      "│ C_0 │   0.3670 │\n",
      "├─────┼──────────┤\n",
      "│ C_1 │   0.6330 │\n",
      "╘═════╧══════════╛\n"
     ]
    }
   ],
   "source": [
    "print(prob_C['C'])"
   ]
  },
  {
   "cell_type": "code",
   "execution_count": null,
   "metadata": {
    "collapsed": true
   },
   "outputs": [],
   "source": []
  }
 ],
 "metadata": {
  "kernelspec": {
   "display_name": "Python 3",
   "language": "python",
   "name": "python3"
  },
  "language_info": {
   "codemirror_mode": {
    "name": "ipython",
    "version": 3
   },
   "file_extension": ".py",
   "mimetype": "text/x-python",
   "name": "python",
   "nbconvert_exporter": "python",
   "pygments_lexer": "ipython3",
   "version": "3.5.0"
  }
 },
 "nbformat": 4,
 "nbformat_minor": 0
}
