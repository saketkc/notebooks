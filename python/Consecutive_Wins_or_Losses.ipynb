{
 "cells": [
  {
   "cell_type": "markdown",
   "metadata": {},
   "source": [
    "> In the World Series, one team hosts Games 1, 2, 6 and 7, while the other team hosts Games 3, 4 and 5. When the Nationals beat the Astros last month, it marked the first time in World Series history that the home team lost all seven games. On average, the home team actually wins about 54 percent of the time in baseball. Running the numbers, you’ll quickly see that seven home losses is a once-in-a-lifetime event.\n",
    "\n",
    "> But putting seven aside for a moment, what’s the probability that the home team will lose at least six consecutive games?"
   ]
  },
  {
   "cell_type": "markdown",
   "metadata": {},
   "source": [
    "# Solution"
   ]
  },
  {
   "cell_type": "markdown",
   "metadata": {},
   "source": [
    "Let $\\alpha$ represent the probability of winning a home game. Let $n$ represent the total games. We want to lose $k$ games in a row (consecutive).\n",
    "Consider the case where we have already seen $m$ consecutive failures and we have $t$ more games to play. Let $f(m,t)$ represent the probability of eventually losing consecutive $k$ games. Them the probability of this happening is given by:\n",
    "\\begin{align*}\n",
    "    f(m,t) &= \\underbrace{\\alpha f(m+1,t-1)}_{\\text{Next trial is a loss: m increases to m+1, one less trial left}} + \\overbrace{(1-\\alpha) f(m, t-1)}^{\\text{Next trial is a win so we reset to 0}}\\\\\n",
    "\\end{align*}\n",
    "Boundary conditions:\n",
    "\\begin{align*}\n",
    "    f(k, t) &= 1 \\quad \\forall t\\geq 0 (\\because \\text{we already have achieved $k$ consecutive failures} )\\\\\n",
    "    f(j, n) &= \\quad \\forall k-j > n (\\because \\text{there is no way to catcup with failures given traisl are few})  \\\\\n",
    "\\end{align*}\n",
    "\n",
    "This gives us a dynamic programming problem. For the problem in hand $n=7, k=6, \\alpha=0.46$ and we are seeking $f(6, 0) + f(6,1) + f(7,0)$. But do we want to write this down??\n",
    "\n",
    "## Alternate approach:\n",
    "\n",
    "We re-imagine this in a state space as follows: we denote a loss by L and a win by W. Since we are interested in\n",
    "a streak of continuous failures, our basis starts with the last game being a 'W'. There are then $k+1$ possible states\n",
    "that we can enumerate (conditional on the fact that we still haven't seen $k$ consecutive `L' at a stretch):\n",
    "\n",
    "\\begin{align*}\n",
    "    S_1 &: \\text{Last game $W$}\\\\\n",
    "    S_2 &: \\text{Last 2 games $WL$}\\\\\n",
    "    S_3 &: \\text{Last 3 games $WLL$}\\\\\n",
    "    & \\vdots\\\\\n",
    "    S_k &: \\text{Last 3 games  $W\\underbrace{{LLL\\dots L}}_{k-1\\text{ times}}$}\\\\\n",
    "    S_{k+1} &: \\text{Last 3 games $W\\underbrace{{LLL\\dots L}}_{k \\text{ times}}$}\\\\\n",
    "\\end{align*}\n",
    "\n",
    "This can be imagined as a $k+1$ state markov chain with the transition matrix given by:\n",
    "\n",
    "$$\n",
    "P = \\begin{bmatrix}\n",
    "1-\\alpha & 1-\\alpha & 1-\\alpha & \\cdots & 1-\\alpha & 0\\\\\n",
    "\\alpha &  0 & 0 & \\cdots & 0 & 0\\\\\n",
    "0 &  \\alpha & 0 & \\cdots & 0 & 0\\\\\n",
    "0 &  0 & \\alpha & \\cdots & 0 & 0\\\\\n",
    "\\vdots & \\vdots & \\vdots\\\\\n",
    "0 & 0 & 0 & \\alpha & 0 & 0\\\\\n",
    "0 & 0 & 0 & \\cdots & \\alpha & 1\\\\\n",
    "\\end{bmatrix}\n",
    "$$\n",
    "\n",
    "Notice the columns sum to one (thuis making it a left stochastimc matrix). Tghwe way this happens is because\n",
    "the probability to stay in state $S_1$ is to get another $W$ which is $1-\\alpha$ and it can switch to $S_2$\n",
    "with probability $\\alpha$. Similarly, once in $S_2$, the probability of switching back to $S_1$ is to get a\n",
    "$W$ with probability $1-\\alpha$ or else switch to $S_3$ with probability $\\alpha$ (and this is reflected in the second column).\n",
    "\n",
    "We are interested in what happens in a game of length $n$, which is equivalent to the number of jumps in such\n",
    "a markov chain being $n$, which is given by $P^n$. we however, are interested in exactly $k$ consecutive failures or \n",
    "more which is given by the probability to reach state $S_{k+1}$ from $S_1$, which is given by the entry $P_{k+1,1}^n$. \n",
    "\n",
    "For the case where we are seeking $k$ or more failures, the probability is given by $\\sum_{k}P_{k+1,1}^n$. \n",
    "For this case, $\\alpha=1-0.54=0.46$ and for loosing at least $k=6$ games of $n=7$, the probabillity is $0.0264$.\n"
   ]
  },
  {
   "cell_type": "code",
   "execution_count": 1,
   "metadata": {},
   "outputs": [
    {
     "name": "stdout",
     "output_type": "stream",
     "text": [
      "Populating the interactive namespace from numpy and matplotlib\n"
     ]
    }
   ],
   "source": [
    "%pylab inline\n",
    "np.set_printoptions(threshold=False)\n",
    "import sys\n",
    "np.set_printoptions(threshold=sys.maxsize)"
   ]
  },
  {
   "cell_type": "code",
   "execution_count": 2,
   "metadata": {},
   "outputs": [],
   "source": [
    "\n",
    "n = 8\n",
    "k = 6\n",
    "alpha = 0.46\n",
    "\n",
    "P = np.zeros((k+1, k+1))\n",
    "P[0, 0:k] = 1-alpha\n",
    "P[k, k] = 1\n",
    "for i in range(1, k+1):\n",
    "    P[i, i-1] = alpha\n",
    "\n"
   ]
  },
  {
   "cell_type": "code",
   "execution_count": 3,
   "metadata": {},
   "outputs": [
    {
     "data": {
      "text/plain": [
       "array([[0.54, 0.54, 0.54, 0.54, 0.54, 0.54, 0.  ],\n",
       "       [0.46, 0.  , 0.  , 0.  , 0.  , 0.  , 0.  ],\n",
       "       [0.  , 0.46, 0.  , 0.  , 0.  , 0.  , 0.  ],\n",
       "       [0.  , 0.  , 0.46, 0.  , 0.  , 0.  , 0.  ],\n",
       "       [0.  , 0.  , 0.  , 0.46, 0.  , 0.  , 0.  ],\n",
       "       [0.  , 0.  , 0.  , 0.  , 0.46, 0.  , 0.  ],\n",
       "       [0.  , 0.  , 0.  , 0.  , 0.  , 0.46, 1.  ]])"
      ]
     },
     "execution_count": 3,
     "metadata": {},
     "output_type": "execute_result"
    }
   ],
   "source": [
    "P\n",
    "# np.sum(P, axis=0)"
   ]
  },
  {
   "cell_type": "code",
   "execution_count": 4,
   "metadata": {},
   "outputs": [
    {
     "data": {
      "text/plain": [
       "0.019706537543680003"
      ]
     },
     "execution_count": 4,
     "metadata": {},
     "output_type": "execute_result"
    }
   ],
   "source": [
    "Pn = np.linalg.matrix_power(P, n)\n",
    "Pn[k, 0]"
   ]
  },
  {
   "cell_type": "markdown",
   "metadata": {},
   "source": [
    "# k or more wins"
   ]
  },
  {
   "cell_type": "code",
   "execution_count": 5,
   "metadata": {},
   "outputs": [],
   "source": [
    "def get_pn(n, k, alpha):\n",
    "    P = np.zeros((k+1, k+1))\n",
    "    P[0, 0:k] = 1-alpha\n",
    "    P[k, k] = 1\n",
    "    for i in range(1, k+1):\n",
    "        P[i, i-1] = alpha\n",
    "    Pn = np.linalg.matrix_power(P, n)\n",
    "    return Pn[k, 0]"
   ]
  },
  {
   "cell_type": "code",
   "execution_count": 6,
   "metadata": {},
   "outputs": [
    {
     "name": "stdout",
     "output_type": "stream",
     "text": [
      "0.026418129464806407\n"
     ]
    }
   ],
   "source": [
    "n = 8\n",
    "alpha = 0.46\n",
    "s= 0\n",
    "for k in range(6, 8):\n",
    "    s+= get_pn(n, k, alpha)\n",
    "print(s)    "
   ]
  },
  {
   "cell_type": "code",
   "execution_count": null,
   "metadata": {},
   "outputs": [],
   "source": []
  }
 ],
 "metadata": {
  "kernelspec": {
   "display_name": "Python 3",
   "language": "python",
   "name": "python3"
  },
  "language_info": {
   "codemirror_mode": {
    "name": "ipython",
    "version": 3
   },
   "file_extension": ".py",
   "mimetype": "text/x-python",
   "name": "python",
   "nbconvert_exporter": "python",
   "pygments_lexer": "ipython3",
   "version": "3.7.3"
  }
 },
 "nbformat": 4,
 "nbformat_minor": 4
}
