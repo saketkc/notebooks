{
 "cells": [
  {
   "cell_type": "markdown",
   "metadata": {},
   "source": [
    "> In the World Series, one team hosts Games 1, 2, 6 and 7, while the other team hosts Games 3, 4 and 5. When the Nationals beat the Astros last month, it marked the first time in World Series history that the home team lost all seven games. On average, the home team actually wins about 54 percent of the time in baseball. Running the numbers, you’ll quickly see that seven home losses is a once-in-a-lifetime event.\n",
    "\n",
    "> But putting seven aside for a moment, what’s the probability that the home team will lose at least six consecutive games?"
   ]
  },
  {
   "cell_type": "code",
   "execution_count": 1,
   "metadata": {},
   "outputs": [
    {
     "name": "stdout",
     "output_type": "stream",
     "text": [
      "Populating the interactive namespace from numpy and matplotlib\n"
     ]
    }
   ],
   "source": [
    "%pylab inline\n",
    "np.set_printoptions(threshold=False)\n",
    "import sys\n",
    "np.set_printoptions(threshold=sys.maxsize)"
   ]
  },
  {
   "cell_type": "code",
   "execution_count": 2,
   "metadata": {},
   "outputs": [],
   "source": [
    "\n",
    "n = 8\n",
    "k = 6\n",
    "alpha = 0.46\n",
    "\n",
    "P = np.zeros((k+1, k+1))\n",
    "P[0, 0:k] = 1-alpha\n",
    "P[k, k] = 1\n",
    "for i in range(1, k+1):\n",
    "    P[i, i-1] = alpha\n",
    "\n"
   ]
  },
  {
   "cell_type": "code",
   "execution_count": 3,
   "metadata": {},
   "outputs": [
    {
     "data": {
      "text/plain": [
       "array([[0.54, 0.54, 0.54, 0.54, 0.54, 0.54, 0.  ],\n",
       "       [0.46, 0.  , 0.  , 0.  , 0.  , 0.  , 0.  ],\n",
       "       [0.  , 0.46, 0.  , 0.  , 0.  , 0.  , 0.  ],\n",
       "       [0.  , 0.  , 0.46, 0.  , 0.  , 0.  , 0.  ],\n",
       "       [0.  , 0.  , 0.  , 0.46, 0.  , 0.  , 0.  ],\n",
       "       [0.  , 0.  , 0.  , 0.  , 0.46, 0.  , 0.  ],\n",
       "       [0.  , 0.  , 0.  , 0.  , 0.  , 0.46, 1.  ]])"
      ]
     },
     "execution_count": 3,
     "metadata": {},
     "output_type": "execute_result"
    }
   ],
   "source": [
    "P\n",
    "# np.sum(P, axis=0)"
   ]
  },
  {
   "cell_type": "code",
   "execution_count": 4,
   "metadata": {},
   "outputs": [
    {
     "data": {
      "text/plain": [
       "0.019706537543680003"
      ]
     },
     "execution_count": 4,
     "metadata": {},
     "output_type": "execute_result"
    }
   ],
   "source": [
    "Pn = np.linalg.matrix_power(P, n)\n",
    "Pn[k, 0]"
   ]
  },
  {
   "cell_type": "markdown",
   "metadata": {},
   "source": [
    "# Create a function"
   ]
  },
  {
   "cell_type": "code",
   "execution_count": 5,
   "metadata": {},
   "outputs": [],
   "source": [
    "def get_pn(n, k, alpha):\n",
    "    P = np.zeros((k+1, k+1))\n",
    "    P[0, 0:k] = 1-alpha\n",
    "    P[k, k] = 1\n",
    "    for i in range(1, k+1):\n",
    "        P[i, i-1] = alpha\n",
    "    Pn = np.linalg.matrix_power(P, n)\n",
    "    return Pn[k, 0]"
   ]
  },
  {
   "cell_type": "code",
   "execution_count": 6,
   "metadata": {},
   "outputs": [
    {
     "name": "stdout",
     "output_type": "stream",
     "text": [
      "0.026418129464806407\n"
     ]
    }
   ],
   "source": [
    "n = 8\n",
    "alpha = 0.46\n",
    "s= 0\n",
    "for k in range(6, 8):\n",
    "    s+= get_pn(n, k, alpha)\n",
    "print(s)    "
   ]
  },
  {
   "cell_type": "code",
   "execution_count": null,
   "metadata": {},
   "outputs": [],
   "source": []
  }
 ],
 "metadata": {
  "kernelspec": {
   "display_name": "Python 3",
   "language": "python",
   "name": "python3"
  },
  "language_info": {
   "codemirror_mode": {
    "name": "ipython",
    "version": 3
   },
   "file_extension": ".py",
   "mimetype": "text/x-python",
   "name": "python",
   "nbconvert_exporter": "python",
   "pygments_lexer": "ipython3",
   "version": "3.7.3"
  }
 },
 "nbformat": 4,
 "nbformat_minor": 2
}
