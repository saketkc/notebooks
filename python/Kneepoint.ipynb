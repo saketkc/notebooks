{
 "cells": [
  {
   "cell_type": "markdown",
   "metadata": {
    "run_control": {
     "frozen": false,
     "read_only": false
    }
   },
   "source": [
    "# Determining knee point using ideas from [Finding a \"Kneedle\" in a Haystack: Detecting Knee Points in System Behavior](https://www1.icsi.berkeley.edu/~barath/papers/kneedle-simplex11.pdf)\n",
    "\n",
    "Another example [here](https://github.com/saketkc/notebooks/blob/master/python/Kneedle%20Algorithm.ipynb)"
   ]
  },
  {
   "cell_type": "code",
   "execution_count": 1,
   "metadata": {
    "run_control": {
     "frozen": false,
     "read_only": false
    }
   },
   "outputs": [
    {
     "name": "stdout",
     "output_type": "stream",
     "text": [
      "Populating the interactive namespace from numpy and matplotlib\n"
     ]
    }
   ],
   "source": [
    "%pylab inline\n",
    "import scipy as sp\n",
    "import seaborn as sns\n",
    "from scipy.interpolate import UnivariateSpline\n",
    "sns.set_style('white')\n",
    "\n",
    "def draw_plot(X, Y, knee_point=None):\n",
    "    plt.plot(X, Y)\n",
    "    if knee_point:\n",
    "        plt.axvline(x=knee_point, color='k', linestyle='--')"
   ]
  },
  {
   "cell_type": "code",
   "execution_count": 2,
   "metadata": {
    "run_control": {
     "frozen": false,
     "read_only": false
    }
   },
   "outputs": [],
   "source": [
    "X = [1000, 2000, 3000, 4000, 5000, 6000, 7000, 8000, 9000]\n",
    "Y = [2314, 802, 519, 417, 358, 318, 302, 284, 280]\n",
    "n = len(X)\n",
    "S = 1"
   ]
  },
  {
   "cell_type": "code",
   "execution_count": 3,
   "metadata": {
    "collapsed": true,
    "run_control": {
     "frozen": false,
     "read_only": false
    }
   },
   "outputs": [],
   "source": [
    "def _locate(Y_d, T_lm, maxima_ids):\n",
    "    n = len(Y_d)\n",
    "    for j in range(0, n):\n",
    "        for index, i in enumerate(maxima_ids):\n",
    "            if j <= i:\n",
    "                continue\n",
    "            if Y_d[j] <= T_lm[index]:\n",
    "                return index\n",
    "\n",
    "\n",
    "def find_knee_point(X, Y, S):\n",
    "    n = len(X)\n",
    "    spl = UnivariateSpline(X, Y)\n",
    "    X_s = np.linspace(np.min(X), np.max(X), n)\n",
    "    Y_s = spl(X_s)\n",
    "    X_sn = (X_s - np.min(X_s)) / (np.max(X_s) - np.min(X_s))\n",
    "    Y_sn = (Y_s - np.min(Y_s)) / (np.max(Y_s) - np.min(Y_s))\n",
    "    X_d = X_sn\n",
    "    Y_d = Y_sn - X_sn\n",
    "    X_lm = []\n",
    "    Y_lm = []\n",
    "    maxima_ids = []\n",
    "    for i in range(1, n - 1):\n",
    "        if (Y_d[i] > Y_d[i - 1] and Y_d[i] > Y_d[i + 1]) or (np.sign(Y_d[i + 1]) != np.sign(Y_d[i - 1])):\n",
    "            X_lm.append(X_d[i])\n",
    "            Y_lm.append(Y_d[i])\n",
    "            maxima_ids.append(i)\n",
    "    print(Y_lm)\n",
    "    T_lm = Y_lm - S * np.sum(np.diff(X_sn)) / (n - 1)\n",
    "    knee_point_index = _locate(Y_d, T_lm, maxima_ids)\n",
    "    knee_point = X_lm[knee_point_index] * (np.max(X_s) - np.min(X_s)\n",
    "                                           ) + np.min(X_s)\n",
    "    return knee_point, Y_d"
   ]
  },
  {
   "cell_type": "code",
   "execution_count": 4,
   "metadata": {
    "run_control": {
     "frozen": false,
     "read_only": false
    }
   },
   "outputs": [
    {
     "name": "stdout",
     "output_type": "stream",
     "text": [
      "[0.13219578562607948, -0.13339603454922289]\n"
     ]
    },
    {
     "data": {
      "image/png": "[encoded data removed]",
      "text/plain": [
       "<matplotlib.figure.Figure at 0x7f7a00298c50>"
      ]
     },
     "metadata": {},
     "output_type": "display_data"
    }
   ],
   "source": [
    "knee_point, _ = find_knee_point(X, Y, S)\n",
    "draw_plot(X, Y, knee_point)"
   ]
  },
  {
   "cell_type": "code",
   "execution_count": null,
   "metadata": {
    "collapsed": true
   },
   "outputs": [],
   "source": []
  }
 ],
 "metadata": {
  "_draft": {
   "nbviewer_url": "https://gist.github.com/312d107d3ba52b96ed69ef0e6a23a1e0"
  },
  "gist": {
   "data": {
    "description": "Kneedle Algorithm-Copy1.ipynb",
    "public": false
   },
   "id": "312d107d3ba52b96ed69ef0e6a23a1e0"
  },
  "hide_input": false,
  "kernelspec": {
   "display_name": "Python [conda env:clipseq]",
   "language": "python",
   "name": "conda-env-clipseq-py"
  },
  "language_info": {
   "codemirror_mode": {
    "name": "ipython",
    "version": 3
   },
   "file_extension": ".py",
   "mimetype": "text/x-python",
   "name": "python",
   "nbconvert_exporter": "python",
   "pygments_lexer": "ipython3",
   "version": "3.5.2"
  },
  "latex_envs": {
   "LaTeX_envs_menu_present": true,
   "autocomplete": true,
   "bibliofile": "biblio.bib",
   "cite_by": "apalike",
   "current_citInitial": 1,
   "eqLabelWithNumbers": true,
   "eqNumInitial": 1,
   "hotkeys": {
    "equation": "Ctrl-E",
    "itemize": "Ctrl-I"
   },
   "labels_anchors": false,
   "latex_user_defs": false,
   "report_style_numbering": false,
   "user_envs_cfg": false
  },
  "toc": {
   "colors": {
    "hover_highlight": "#DAA520",
    "running_highlight": "#FF0000",
    "selected_highlight": "#FFD700"
   },
   "moveMenuLeft": true,
   "nav_menu": {
    "height": "80px",
    "width": "252px"
   },
   "navigate_menu": true,
   "number_sections": true,
   "sideBar": true,
   "threshold": 4,
   "toc_cell": false,
   "toc_section_display": "block",
   "toc_window_display": true,
   "widenNotebook": false
  }
 },
 "nbformat": 4,
 "nbformat_minor": 2
}
