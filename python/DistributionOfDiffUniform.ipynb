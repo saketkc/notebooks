{
 "cells": [
  {
   "cell_type": "code",
   "execution_count": null,
   "metadata": {},
   "outputs": [],
   "source": [
    "This is similar to asking for a given point what is the probability that another point lies in an interval of d less than it? This is proportional to (1-d/N)^(N-1) or equivalently exp((N-1)*log(1-d/N)).\n",
    "For small x, log(1-x) ~= -x.\n",
    "So the probability of d is ~prop exp(-d)"
   ]
  },
  {
   "cell_type": "code",
   "execution_count": null,
   "metadata": {},
   "outputs": [],
   "source": [
    "The fact that you have N points and an interval of N explains why your scale parameter is 1, but it should hold for M != N points, just with a different lambda."
   ]
  },
  {
   "cell_type": "markdown",
   "metadata": {},
   "source": [
    "If $U_{(i)}$ and $U_{(j})$ represent the $i^{th}$ and $j^{th}$ order statistic respectively, then the joint distribution is given by \n",
    "\n",
    "$$\n",
    "f_{u,v}(U_{(i)}, U_{(j)}#\n",
    "$$"
   ]
  }
 ],
 "metadata": {
  "kernelspec": {
   "display_name": "Python 3",
   "language": "python",
   "name": "python3"
  },
  "language_info": {
   "codemirror_mode": {
    "name": "ipython",
    "version": 3
   },
   "file_extension": ".py",
   "mimetype": "text/x-python",
   "name": "python",
   "nbconvert_exporter": "python",
   "pygments_lexer": "ipython3",
   "version": "3.6.5"
  }
 },
 "nbformat": 4,
 "nbformat_minor": 2
}
