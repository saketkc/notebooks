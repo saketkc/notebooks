{
 "cells": [
  {
   "cell_type": "code",
   "execution_count": 1,
   "metadata": {},
   "outputs": [
    {
     "name": "stdout",
     "output_type": "stream",
     "text": [
      "Populating the interactive namespace from numpy and matplotlib\n"
     ]
    }
   ],
   "source": [
    "%pylab inline\n"
   ]
  },
  {
   "cell_type": "markdown",
   "metadata": {},
   "source": [
    "Basically, a perfume is made up of Top, Middle and Base notes. There are (broad brush strokes) approximately 20 common notes in each category. So a LOT of possible combinations.\n",
    "\n",
    "I have been introduced to the CEO of a perfumery supplier, who has access to the different ingredients, but I need to understand what the possibilities are from a theoretical perspective. How many combinations can be interrogated in 10 steps (I think this is the maximum anyone would put up with to design their own)? If we could narrow down some of the space by weighting any decisions through knowing which ones go/don't go together, how would that help? Is it possible to start with a range of different blends and then focus in on the ones that an individual likes? Once up and running, could we adopt a machine learning approach to refine the algorithm as it is used?"
   ]
  },
  {
   "cell_type": "code",
   "execution_count": null,
   "metadata": {},
   "outputs": [],
   "source": [
    "total_samples = 10"
   ]
  },
  {
   "cell_type": "code",
   "execution_count": 2,
   "metadata": {},
   "outputs": [],
   "source": [
    "sample_list = np.arange(1, total_samples+1)"
   ]
  },
  {
   "cell_type": "code",
   "execution_count": null,
   "metadata": {},
   "outputs": [],
   "source": [
    "b = np.zeros()"
   ]
  }
 ],
 "metadata": {
  "kernelspec": {
   "display_name": "Python [conda env:riboraptor]",
   "language": "python",
   "name": "conda-env-riboraptor-py"
  },
  "language_info": {
   "codemirror_mode": {
    "name": "ipython",
    "version": 3
   },
   "file_extension": ".py",
   "mimetype": "text/x-python",
   "name": "python",
   "nbconvert_exporter": "python",
   "pygments_lexer": "ipython3",
   "version": "3.6.5"
  }
 },
 "nbformat": 4,
 "nbformat_minor": 2
}
