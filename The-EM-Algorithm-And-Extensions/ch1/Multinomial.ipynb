{
 "cells": [
  {
   "cell_type": "markdown",
   "metadata": {},
   "source": [
    "Observed data: Count vector $y : (y_1,y_2,y_3,y_4)^T$ postulated to be arising from a multinomial distribution with four cells and corresponding probabilities: $(p_1,p_2,p_3,p_4) = (\\frac{1}{2}+\\frac{1}{4}p, \\frac{1}{4}(1-p), \\frac{1}{4}(1-p), \\frac{1}{4}p)$ such that $0 \\leq p \\leq 1$ and we need to estimate $p$"
   ]
  },
  {
   "cell_type": "markdown",
   "metadata": {},
   "source": [
    "Probability density function $f(y;p) = \\frac{n!}{y_1!y_2!y_3!y_4!}p_1^{y_1}p_2^{y_2}p_3^{y_3}p_4^{y_4}$"
   ]
  },
  {
   "cell_type": "markdown",
   "metadata": {},
   "source": [
    "The log likelihood function is given by $\\log(L(p|y)) = y_1\\log(p_1) + y_2\\log(p_2)+y_3\\log(p_3)+y_4\\log(p_4) + \\log(n!) - \\log(y_1!y_2!y_3!y_4!)$"
   ]
  },
  {
   "cell_type": "markdown",
   "metadata": {},
   "source": [
    "## MLE "
   ]
  },
  {
   "cell_type": "markdown",
   "metadata": {},
   "source": [
    "\\begin{eqnarray}\n",
    "\\frac{\\partial \\log(L(p|y))}{\\partial p} = 0\\\\\n",
    "\\frac{y_1}{p_1}(\\frac{1}{4}) + \\frac{y_2}{p_2}(-\\frac{1}{4}) + \\frac{y_3}{p_3}(-\\frac{1}{4}) + \\frac{y_4}{p_4}(\\frac{1}{4}) = 0\\\\\n",
    "\\frac{y_1}{2+p} - \\frac{y_2+y_3}{1-p} + \\frac{y_4}{p} = 0\\\\\n",
    "\\end{eqnarray}"
   ]
  },
  {
   "cell_type": "markdown",
   "metadata": {},
   "source": [
    "### Analytical Solution\n",
    "\\begin{eqnarray}\n",
    "b = y_1-y_4-2(y_2+y_3)\\\\\n",
    "a = -(y_1+y_2+y_3+y_4)\\\\\n",
    "c = 2y_4\\\\\n",
    "\\hat{p} = \\frac{-b\\pm\\sqrt{b^2-4ac}}{2a}\n",
    "\\end{eqnarray}"
   ]
  },
  {
   "cell_type": "code",
   "execution_count": 15,
   "metadata": {
    "collapsed": false
   },
   "outputs": [],
   "source": [
    "import numpy as np\n",
    "import scipy as sp\n",
    "y1,y2,y3,y4 = 1997,906,904,32\n",
    "n = 3839\n",
    "b = y1-y4-2*(y2+y3)\n",
    "a = -(y1+y2+y3+y4)\n",
    "c = 2*y4\n",
    "p = (-b-np.sqrt(b**2-4*a*c))/(2*a)"
   ]
  },
  {
   "cell_type": "code",
   "execution_count": 16,
   "metadata": {
    "collapsed": false
   },
   "outputs": [
    {
     "data": {
      "text/plain": [
       "0.035712302240628144"
      ]
     },
     "execution_count": 16,
     "metadata": {},
     "output_type": "execute_result"
    }
   ],
   "source": [
    "p"
   ]
  },
  {
   "cell_type": "markdown",
   "metadata": {},
   "source": [
    "## MLE - Newton Raphson"
   ]
  },
  {
   "cell_type": "markdown",
   "metadata": {},
   "source": [
    "\\begin{eqnarray}\n",
    "S(y; p) = \\frac{\\partial \\log(L(p|y))}{\\partial p}\\\\\n",
    "S(y;p) = 0\\\\\n",
    "I(p;y) = -\\frac{\\partial^2 \\log(L(p|y))}{\\partial p^2}\\\\\n",
    "I(p;y) = \\frac{y_1}{(2+p)^2} + \\frac{y_2+y_3}{(1-p)^2} + \\frac{y_4}{p^2} \\\\\n",
    "S(y;p) \\approx S(y;p^k) + \\frac{\\partial S}{\\partial p} I(p;y)(p-p^k) = S(y;p^k) - I(p;y)(p-p^k) \\text{Taylor expansion}\\\\\n",
    "p^{k+1}=p^k+I^{-1}(p^k;y)S(y;p^k)\n",
    "\\end{eqnarray}"
   ]
  },
  {
   "cell_type": "markdown",
   "metadata": {},
   "source": [
    "$$E[y_1+y_4-(y_2+y_3)] = np$$"
   ]
  },
  {
   "cell_type": "markdown",
   "metadata": {},
   "source": [
    "Thus we choose starting point to be $p_0 = \\frac{y_1+y_4-(y_2+y_3)}{n}$\n",
    "\n",
    "NOTE: In order to reduce computational complexity we make this following inherent assumption: \n",
    "$$\n",
    "E[\\frac{\\partial^2 S}{\\partial p^2}] = E[\\frac{\\partial S}{\\partial p} \\times \\frac{\\partial S}{\\partial p}]\n",
    "$$"
   ]
  },
  {
   "cell_type": "code",
   "execution_count": 101,
   "metadata": {
    "collapsed": false
   },
   "outputs": [
    {
     "data": {
      "text/plain": [
       "0.057046105756707474"
      ]
     },
     "execution_count": 101,
     "metadata": {},
     "output_type": "execute_result"
    }
   ],
   "source": [
    "pe = (y1+y4-(y2+y3))/n\n",
    "pe"
   ]
  },
  {
   "cell_type": "code",
   "execution_count": 134,
   "metadata": {
    "collapsed": false
   },
   "outputs": [
    {
     "name": "stdout",
     "output_type": "stream",
     "text": [
      "-387.74068038090877\n"
     ]
    }
   ],
   "source": [
    "pold = pe\n",
    "pnew = pe\n",
    "s = y1/(2+pe)-(y2+y3)/(1-pe)+y4/pe\n",
    "print(s)\n"
   ]
  },
  {
   "cell_type": "code",
   "execution_count": 135,
   "metadata": {
    "collapsed": false
   },
   "outputs": [
    {
     "name": "stdout",
     "output_type": "stream",
     "text": [
      "0.057046105756707474 0.025626790824640956 -387.74068038090877\n",
      "0.025626790824640956 0.03300085259227735 376.956468896675\n",
      "0.03300085259227735 0.03552250304276715 80.19367816684894\n",
      "0.03552250304276715 0.035711383960063195 5.248507070642177\n",
      "0.035711383960063195 0.03571230221915427 0.025270958459486792\n",
      "0.03571230221915427 0.03571230224062816 5.90944637224311e-07\n",
      "0.03571230224062816 0.035712302240628144 -3.410605131648481e-13\n",
      "0.035712302240628144 0.035712302240628144 0.0\n"
     ]
    }
   ],
   "source": [
    "def I(px):\n",
    "    return y1/((2+px)**2)+(y2+y3)/((1-px)**2) + y4/(px**2)\n",
    "def S(px):\n",
    "    return y1/(2+px)-(y2+y3)/(1-px)+y4/px\n",
    "iters = 0\n",
    "while np.abs(s)>10e-9 and pnew>0 and pold>0:\n",
    "    i = I(pnew)\n",
    "    s = S(pnew) - i *(pnew-pold)\n",
    "    pold = pnew\n",
    "    pnew = pold + 1/(I(pold))*S(pold)\n",
    "    print(pold, pnew, S(pold))\n",
    "    iters+=1\n"
   ]
  },
  {
   "cell_type": "code",
   "execution_count": null,
   "metadata": {
    "collapsed": true
   },
   "outputs": [],
   "source": []
  }
 ],
 "metadata": {
  "kernelspec": {
   "display_name": "Python 3",
   "language": "python",
   "name": "python3"
  },
  "language_info": {
   "codemirror_mode": {
    "name": "ipython",
    "version": 3
   },
   "file_extension": ".py",
   "mimetype": "text/x-python",
   "name": "python",
   "nbconvert_exporter": "python",
   "pygments_lexer": "ipython3",
   "version": "3.5.1"
  }
 },
 "nbformat": 4,
 "nbformat_minor": 0
}
