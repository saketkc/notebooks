{
 "cells": [
  {
   "cell_type": "code",
   "execution_count": 113,
   "metadata": {
    "collapsed": false
   },
   "outputs": [],
   "source": [
    "%matplotlib notebook\n",
    "from __future__ import division\n",
    "from scipy.stats import binom as binomial\n",
    "import numpy as np\n",
    "import matplotlib.pyplot as plt\n",
    "import seaborn as sns\n",
    "#from ipywidgets import StaticInteract, RangeWidget\n",
    "import pandas as pd\n",
    "from IPython.display import display\n",
    "from sympy import init_printing, symbols, Eq\n",
    "init_printing()"
   ]
  },
  {
   "cell_type": "code",
   "execution_count": 102,
   "metadata": {
    "collapsed": false
   },
   "outputs": [],
   "source": [
    "coin_toss = []\n",
    "coin_toss.append('H T T T H H T H T H'.split())\n",
    "coin_toss.append('H H H H T H H H H H'.split())\n",
    "coin_toss.append('H T H H H H H T H H'.split())\n",
    "coin_toss.append('H T H T T T H H T T'.split())\n",
    "coin_toss.append('T H H H T H H H T H'.split())"
   ]
  },
  {
   "cell_type": "code",
   "execution_count": 103,
   "metadata": {
    "collapsed": false
   },
   "outputs": [],
   "source": [
    "df = pd.DataFrame(coin_toss)"
   ]
  },
  {
   "cell_type": "code",
   "execution_count": 104,
   "metadata": {
    "collapsed": false
   },
   "outputs": [
    {
     "data": {
      "text/html": [
       "<div>\n",
       "<table border=\"1\" class=\"dataframe\">\n",
       "  <thead>\n",
       "    <tr style=\"text-align: right;\">\n",
       "      <th></th>\n",
       "      <th>0</th>\n",
       "      <th>1</th>\n",
       "      <th>2</th>\n",
       "      <th>3</th>\n",
       "      <th>4</th>\n",
       "      <th>5</th>\n",
       "      <th>6</th>\n",
       "      <th>7</th>\n",
       "      <th>8</th>\n",
       "      <th>9</th>\n",
       "    </tr>\n",
       "  </thead>\n",
       "  <tbody>\n",
       "    <tr>\n",
       "      <th>0</th>\n",
       "      <td>H</td>\n",
       "      <td>T</td>\n",
       "      <td>T</td>\n",
       "      <td>T</td>\n",
       "      <td>H</td>\n",
       "      <td>H</td>\n",
       "      <td>T</td>\n",
       "      <td>H</td>\n",
       "      <td>T</td>\n",
       "      <td>H</td>\n",
       "    </tr>\n",
       "    <tr>\n",
       "      <th>1</th>\n",
       "      <td>H</td>\n",
       "      <td>H</td>\n",
       "      <td>H</td>\n",
       "      <td>H</td>\n",
       "      <td>T</td>\n",
       "      <td>H</td>\n",
       "      <td>H</td>\n",
       "      <td>H</td>\n",
       "      <td>H</td>\n",
       "      <td>H</td>\n",
       "    </tr>\n",
       "    <tr>\n",
       "      <th>2</th>\n",
       "      <td>H</td>\n",
       "      <td>T</td>\n",
       "      <td>H</td>\n",
       "      <td>H</td>\n",
       "      <td>H</td>\n",
       "      <td>H</td>\n",
       "      <td>H</td>\n",
       "      <td>T</td>\n",
       "      <td>H</td>\n",
       "      <td>H</td>\n",
       "    </tr>\n",
       "    <tr>\n",
       "      <th>3</th>\n",
       "      <td>H</td>\n",
       "      <td>T</td>\n",
       "      <td>H</td>\n",
       "      <td>T</td>\n",
       "      <td>T</td>\n",
       "      <td>T</td>\n",
       "      <td>H</td>\n",
       "      <td>H</td>\n",
       "      <td>T</td>\n",
       "      <td>T</td>\n",
       "    </tr>\n",
       "    <tr>\n",
       "      <th>4</th>\n",
       "      <td>T</td>\n",
       "      <td>H</td>\n",
       "      <td>H</td>\n",
       "      <td>H</td>\n",
       "      <td>T</td>\n",
       "      <td>H</td>\n",
       "      <td>H</td>\n",
       "      <td>H</td>\n",
       "      <td>T</td>\n",
       "      <td>H</td>\n",
       "    </tr>\n",
       "  </tbody>\n",
       "</table>\n",
       "</div>"
      ],
      "text/plain": [
       "   0  1  2  3  4  5  6  7  8  9\n",
       "0  H  T  T  T  H  H  T  H  T  H\n",
       "1  H  H  H  H  T  H  H  H  H  H\n",
       "2  H  T  H  H  H  H  H  T  H  H\n",
       "3  H  T  H  T  T  T  H  H  T  T\n",
       "4  T  H  H  H  T  H  H  H  T  H"
      ]
     },
     "execution_count": 104,
     "metadata": {},
     "output_type": "execute_result"
    }
   ],
   "source": [
    "df"
   ]
  },
  {
   "cell_type": "code",
   "execution_count": 105,
   "metadata": {
    "collapsed": false
   },
   "outputs": [
    {
     "data": {
      "image/png": "[encoded data removed]",
      "text/latex": [
       "$$\\left ( \\theta_{A}, \\quad 0.6\\right )$$"
      ],
      "text/plain": [
       "(θ_A, 0.6)"
      ]
     },
     "execution_count": 105,
     "metadata": {},
     "output_type": "execute_result"
    }
   ],
   "source": [
    "thetaA, thetaB = symbols('theta_A theta_B')\n",
    "a,b = thetaA, thetaB # Hack to display\n",
    "thetaA = 0.6\n",
    "thetaB = 0.5\n",
    "a , thetaA\n"
   ]
  },
  {
   "cell_type": "code",
   "execution_count": 106,
   "metadata": {
    "collapsed": false
   },
   "outputs": [
    {
     "data": {
      "image/png": "[encoded data removed]",
      "text/latex": [
       "$$\\left ( \\theta_{B}, \\quad 0.5\\right )$$"
      ],
      "text/plain": [
       "(θ_B, 0.5)"
      ]
     },
     "execution_count": 106,
     "metadata": {},
     "output_type": "execute_result"
    }
   ],
   "source": [
    "b, thetaB"
   ]
  },
  {
   "cell_type": "code",
   "execution_count": 107,
   "metadata": {
    "collapsed": false
   },
   "outputs": [],
   "source": [
    "## Observed Case\n",
    "\n",
    "observed = ['B', 'A', 'A', 'B', 'A']\n",
    "index_A = [i for i,x in enumerate(observed) if x=='A']\n",
    "index_B = [i for i,x in enumerate(observed) if x=='B']\n",
    "total_tosses = df.size\n",
    "A_tosses = df.iloc[index_A].unstack()\n",
    "B_tosses = df.iloc[index_B].unstack()\n",
    "\n",
    "A_heads = A_tosses.value_counts()['H']\n",
    "B_heads = B_tosses.value_counts()['H']\n",
    "\n",
    "theta_A = A_heads/A_tosses.size\n",
    "theta_B = B_heads/B_tosses.size"
   ]
  },
  {
   "cell_type": "code",
   "execution_count": 111,
   "metadata": {
    "collapsed": false
   },
   "outputs": [
    {
     "data": {
      "image/png": "[encoded data removed]",
      "text/latex": [
       "$$\\left ( \\theta_{A}, \\quad 0.8\\right )$$"
      ],
      "text/plain": [
       "(θ_A, 0.8)"
      ]
     },
     "execution_count": 111,
     "metadata": {},
     "output_type": "execute_result"
    }
   ],
   "source": [
    "(a, theta_A)"
   ]
  },
  {
   "cell_type": "code",
   "execution_count": 110,
   "metadata": {
    "collapsed": false
   },
   "outputs": [
    {
     "data": {
      "image/png": "[encoded data removed]",
      "text/latex": [
       "$$\\left ( \\theta_{B}, \\quad 0.45\\right )$$"
      ],
      "text/plain": [
       "(θ_B, 0.45)"
      ]
     },
     "execution_count": 110,
     "metadata": {},
     "output_type": "execute_result"
    }
   ],
   "source": [
    "(b, theta_B)"
   ]
  },
  {
   "cell_type": "code",
   "execution_count": null,
   "metadata": {
    "collapsed": true
   },
   "outputs": [],
   "source": [
    "thetaA = 0.6\n",
    "thetaB = 0.5\n",
    "\n",
    "def em(theta_old):\n",
    "    row_prob = []\n",
    "    ## Expectation\n",
    "    for row in coin_toss:\n",
    "        count_heads = row.count('H')\n",
    "        p_a = binomial.pmf(count_heads, len(row), theta_old['A'])\n",
    "        p_b = binomial.pmf(count_heads, len(row), theta_old['B'])\n",
    "        p_t = p_a+p_b\n",
    "        p_a = p_a/p_t\n",
    "        p_b = p_b/p_t\n",
    "        row_prob.append({'A': p_a, 'B': p_b, 'count_heads': count_heads})\n",
    "        \n",
    "    ## Maximisation\n",
    "    new_coin_toss = []\n",
    "    for row in row_prob:\n",
    "        A_heads = \n",
    "        new_coin_tosse.append"
   ]
  }
 ],
 "metadata": {
  "kernelspec": {
   "display_name": "Python 2",
   "language": "python",
   "name": "python2"
  },
  "language_info": {
   "codemirror_mode": {
    "name": "ipython",
    "version": 2
   },
   "file_extension": ".py",
   "mimetype": "text/x-python",
   "name": "python",
   "nbconvert_exporter": "python",
   "pygments_lexer": "ipython2",
   "version": "2.7.10"
  }
 },
 "nbformat": 4,
 "nbformat_minor": 0
}
